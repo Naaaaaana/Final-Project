{
  "nbformat": 4,
  "nbformat_minor": 0,
  "metadata": {
    "colab": {
      "machine_shape": "hm",
      "gpuType": "T4",
      "provenance": []
    },
    "accelerator": "GPU",
    "kaggle": {
      "accelerator": "gpu"
    },
    "language_info": {
      "name": "python"
    },
    "kernelspec": {
      "name": "python3",
      "display_name": "Python 3"
    }
  },
  "cells": [
    {
      "cell_type": "code",
      "source": [
        "!pip install -U transformers"
      ],
      "metadata": {
        "id": "KPajtqSkbSzU"
      },
      "execution_count": null,
      "outputs": []
    },
    {
      "cell_type": "markdown",
      "source": [
        "## Local Inference on GPU\n",
        "Model page: https://huggingface.co/microsoft/Multilingual-MiniLM-L12-H384\n",
        "\n",
        "\u26a0\ufe0f If the generated code snippets do not work, please open an issue on either the [model repo](https://huggingface.co/microsoft/Multilingual-MiniLM-L12-H384)\n",
        "\t\t\tand/or on [huggingface.js](https://github.com/huggingface/huggingface.js/blob/main/packages/tasks/src/model-libraries-snippets.ts) \ud83d\ude4f"
      ],
      "metadata": {
        "id": "oSy7t1G_bSzV"
      }
    },
    {
      "cell_type": "code",
      "source": [
        "# Load model directly\n",
        "from transformers import AutoModel\n",
        "model = AutoModel.from_pretrained(\"microsoft/Multilingual-MiniLM-L12-H384\", torch_dtype=\"auto\"),"
      ],
      "metadata": {
        "id": "vlLKOKAnbSzW",
        "outputId": "5b539f81-e9de-4b22-9667-4a658d724187",
        "colab": {
          "base_uri": "https://localhost:8080/",
          "height": 205,
          "referenced_widgets": [
            "19228547b60247b4ae2c97018e00e3e5",
            "29ca3adf5e9140f9b5088a6f9f450c82",
            "41b1dddf21e8499688c6a725cf00afef",
            "94deab7597aa45d0b69eba76989d8605",
            "de026bf9452546dbb52c1609fe9e31e0",
            "40952f6c356240b7afc6f13336482bfc",
            "4f46bf82b79e4f27859c4a7a56660eab",
            "18ca1a055e7e4dafbf6bc3dd6eb78cbb",
            "cca3207e2f264694b98b0452cc06e7ac",
            "e9973b0ab50e440b8f59272626218229",
            "e20d0036f7064f40b64e41e1e57edea2",
            "61c810de7207438a8c776194cfde9ec5",
            "53c72144130b46e98eb5340b8a1b3bb4",
            "5a92151c5bd44d4d82a45b76a4e42d55",
            "b36493351ddd49a091e9c69452068bfb",
            "60dd3299ac2b4ccda6efbd96e1182f6c",
            "cc084a14be6a4ac4ac9cbd12cdb01829",
            "73078f94962a4402ab5ccd5b0fc353e8",
            "6ab1a41cf83b4230b376aa6bb9370c00",
            "f7622f9282e94362ab551f555993f4f8",
            "d6abc7a3a106471a9055b9d1eb160b18",
            "be5fa8af69f04e28a881d9ea0dc8b69d"
          ]
        }
      },
      "execution_count": 1,
      "outputs": [
        {
          "output_type": "stream",
          "name": "stderr",
          "text": [
            "/usr/local/lib/python3.11/dist-packages/huggingface_hub/utils/_auth.py:94: UserWarning: \n",
            "The secret `HF_TOKEN` does not exist in your Colab secrets.\n",
            "To authenticate with the Hugging Face Hub, create a token in your settings tab (https://huggingface.co/settings/tokens), set it as secret in your Google Colab and restart your session.\n",
            "You will be able to reuse this secret in all of your notebooks.\n",
            "Please note that authentication is recommended but still optional to access public models or datasets.\n",
            "  warnings.warn(\n"
          ]
        },
        {
          "output_type": "display_data",
          "data": {
            "text/plain": [
              "config.json:   0%|          | 0.00/430 [00:00<?, ?B/s]"
            ],
            "application/vnd.jupyter.widget-view+json": {
              "version_major": 2,
              "version_minor": 0,
              "model_id": "19228547b60247b4ae2c97018e00e3e5"
            }
          },
          "metadata": {}
        },
        {
          "output_type": "display_data",
          "data": {
            "text/plain": [
              "pytorch_model.bin:   0%|          | 0.00/471M [00:00<?, ?B/s]"
            ],
            "application/vnd.jupyter.widget-view+json": {
              "version_major": 2,
              "version_minor": 0,
              "model_id": "61c810de7207438a8c776194cfde9ec5"
            }
          },
          "metadata": {}
        }
      ]
    },
    {
      "cell_type": "markdown",
      "source": [
        "## Remote Inference via Inference Providers\n",
        "Ensure you have a valid **HF_TOKEN** set in your environment. You can get your token from [your settings page](https://huggingface.co/settings/tokens). Note: running this may incur charges above the free tier.\n",
        "The following Python example shows how to run the model remotely on HF Inference Providers, automatically selecting an available inference provider for you.\n",
        "For more information on how to use the Inference Providers, please refer to our [documentation and guides](https://huggingface.co/docs/inference-providers/en/index)."
      ],
      "metadata": {
        "id": "OuHHhtSdbSzX"
      }
    },
    {
      "cell_type": "code",
      "source": [
        "import pandas as pd\n",
        "\n",
        "df0 = pd.read_parquet(\"hf://datasets/sdiazlor/text-classification-news-topics/generate_text_classification_data_0/train-00000-of-00001.parquet\")\n",
        "df1 = pd.read_parquet(\"hf://datasets/sdiazlor/text-classification-news-topics/generate_text_classification_data_1/train-00000-of-00001.parquet\")\n",
        "df2 = pd.read_parquet(\"hf://datasets/sdiazlor/text-classification-news-topics/generate_text_classification_data_2/train-00000-of-00001.parquet\")\n",
        "\n",
        "df = pd.concat([df0, df1, df2], ignore_index=True)\n",
        "df.head()"
      ],
      "metadata": {
        "id": "bywDGBdPcZBJ",
        "outputId": "85f1c3ad-0bd4-47c3-9f62-c2a6b6b9bb6a",
        "colab": {
          "base_uri": "https://localhost:8080/",
          "height": 293
        }
      },
      "execution_count": 2,
      "outputs": [
        {
          "output_type": "execute_result",
          "data": {
            "text/plain": [
              "                                             task  \\\n",
              "0  Determine the news article as sports, business   \n",
              "1  Determine the news article as sports, business   \n",
              "2  Determine the news article as sports, business   \n",
              "3  Determine the news article as sports, business   \n",
              "4  Determine the news article as sports, business   \n",
              "\n",
              "                                          input_text     label  \\\n",
              "0  The recent surge in cryptocurrency prices has ...  business   \n",
              "1  The recent surge in the price of crude oil has...  business   \n",
              "2  The recent surge in cryptocurrency prices has ...  business   \n",
              "3  The New York Knicks' struggles on the court ha...  business   \n",
              "4  The New York Knicks' recent acquisition of sta...    sports   \n",
              "\n",
              "  misleading_label                                distilabel_metadata  \\\n",
              "0           sports  {'raw_output_generate_text_classification_data...   \n",
              "1           sports  {'raw_output_generate_text_classification_data...   \n",
              "2           sports  {'raw_output_generate_text_classification_data...   \n",
              "3           sports  {'raw_output_generate_text_classification_data...   \n",
              "4         business  {'raw_output_generate_text_classification_data...   \n",
              "\n",
              "                              model_name  \n",
              "0  meta-llama/Meta-Llama-3.1-8B-Instruct  \n",
              "1  meta-llama/Meta-Llama-3.1-8B-Instruct  \n",
              "2  meta-llama/Meta-Llama-3.1-8B-Instruct  \n",
              "3  meta-llama/Meta-Llama-3.1-8B-Instruct  \n",
              "4  meta-llama/Meta-Llama-3.1-8B-Instruct  "
            ],
            "text/html": [
              "\n",
              "  <div id=\"df-39069e61-6514-465d-9637-3dafd0c81abe\" class=\"colab-df-container\">\n",
              "    <div>\n",
              "<style scoped>\n",
              "    .dataframe tbody tr th:only-of-type {\n",
              "        vertical-align: middle;\n",
              "    }\n",
              "\n",
              "    .dataframe tbody tr th {\n",
              "        vertical-align: top;\n",
              "    }\n",
              "\n",
              "    .dataframe thead th {\n",
              "        text-align: right;\n",
              "    }\n",
              "</style>\n",
              "<table border=\"1\" class=\"dataframe\">\n",
              "  <thead>\n",
              "    <tr style=\"text-align: right;\">\n",
              "      <th></th>\n",
              "      <th>task</th>\n",
              "      <th>input_text</th>\n",
              "      <th>label</th>\n",
              "      <th>misleading_label</th>\n",
              "      <th>distilabel_metadata</th>\n",
              "      <th>model_name</th>\n",
              "    </tr>\n",
              "  </thead>\n",
              "  <tbody>\n",
              "    <tr>\n",
              "      <th>0</th>\n",
              "      <td>Determine the news article as sports, business</td>\n",
              "      <td>The recent surge in cryptocurrency prices has ...</td>\n",
              "      <td>business</td>\n",
              "      <td>sports</td>\n",
              "      <td>{'raw_output_generate_text_classification_data...</td>\n",
              "      <td>meta-llama/Meta-Llama-3.1-8B-Instruct</td>\n",
              "    </tr>\n",
              "    <tr>\n",
              "      <th>1</th>\n",
              "      <td>Determine the news article as sports, business</td>\n",
              "      <td>The recent surge in the price of crude oil has...</td>\n",
              "      <td>business</td>\n",
              "      <td>sports</td>\n",
              "      <td>{'raw_output_generate_text_classification_data...</td>\n",
              "      <td>meta-llama/Meta-Llama-3.1-8B-Instruct</td>\n",
              "    </tr>\n",
              "    <tr>\n",
              "      <th>2</th>\n",
              "      <td>Determine the news article as sports, business</td>\n",
              "      <td>The recent surge in cryptocurrency prices has ...</td>\n",
              "      <td>business</td>\n",
              "      <td>sports</td>\n",
              "      <td>{'raw_output_generate_text_classification_data...</td>\n",
              "      <td>meta-llama/Meta-Llama-3.1-8B-Instruct</td>\n",
              "    </tr>\n",
              "    <tr>\n",
              "      <th>3</th>\n",
              "      <td>Determine the news article as sports, business</td>\n",
              "      <td>The New York Knicks' struggles on the court ha...</td>\n",
              "      <td>business</td>\n",
              "      <td>sports</td>\n",
              "      <td>{'raw_output_generate_text_classification_data...</td>\n",
              "      <td>meta-llama/Meta-Llama-3.1-8B-Instruct</td>\n",
              "    </tr>\n",
              "    <tr>\n",
              "      <th>4</th>\n",
              "      <td>Determine the news article as sports, business</td>\n",
              "      <td>The New York Knicks' recent acquisition of sta...</td>\n",
              "      <td>sports</td>\n",
              "      <td>business</td>\n",
              "      <td>{'raw_output_generate_text_classification_data...</td>\n",
              "      <td>meta-llama/Meta-Llama-3.1-8B-Instruct</td>\n",
              "    </tr>\n",
              "  </tbody>\n",
              "</table>\n",
              "</div>\n",
              "    <div class=\"colab-df-buttons\">\n",
              "\n",
              "  <div class=\"colab-df-container\">\n",
              "    <button class=\"colab-df-convert\" onclick=\"convertToInteractive('df-39069e61-6514-465d-9637-3dafd0c81abe')\"\n",
              "            title=\"Convert this dataframe to an interactive table.\"\n",
              "            style=\"display:none;\">\n",
              "\n",
              "  <svg xmlns=\"http://www.w3.org/2000/svg\" height=\"24px\" viewBox=\"0 -960 960 960\">\n",
              "    <path d=\"M120-120v-720h720v720H120Zm60-500h600v-160H180v160Zm220 220h160v-160H400v160Zm0 220h160v-160H400v160ZM180-400h160v-160H180v160Zm440 0h160v-160H620v160ZM180-180h160v-160H180v160Zm440 0h160v-160H620v160Z\"/>\n",
              "  </svg>\n",
              "    </button>\n",
              "\n",
              "  <style>\n",
              "    .colab-df-container {\n",
              "      display:flex;\n",
              "      gap: 12px;\n",
              "    }\n",
              "\n",
              "    .colab-df-convert {\n",
              "      background-color: #E8F0FE;\n",
              "      border: none;\n",
              "      border-radius: 50%;\n",
              "      cursor: pointer;\n",
              "      display: none;\n",
              "      fill: #1967D2;\n",
              "      height: 32px;\n",
              "      padding: 0 0 0 0;\n",
              "      width: 32px;\n",
              "    }\n",
              "\n",
              "    .colab-df-convert:hover {\n",
              "      background-color: #E2EBFA;\n",
              "      box-shadow: 0px 1px 2px rgba(60, 64, 67, 0.3), 0px 1px 3px 1px rgba(60, 64, 67, 0.15);\n",
              "      fill: #174EA6;\n",
              "    }\n",
              "\n",
              "    .colab-df-buttons div {\n",
              "      margin-bottom: 4px;\n",
              "    }\n",
              "\n",
              "    [theme=dark] .colab-df-convert {\n",
              "      background-color: #3B4455;\n",
              "      fill: #D2E3FC;\n",
              "    }\n",
              "\n",
              "    [theme=dark] .colab-df-convert:hover {\n",
              "      background-color: #434B5C;\n",
              "      box-shadow: 0px 1px 3px 1px rgba(0, 0, 0, 0.15);\n",
              "      filter: drop-shadow(0px 1px 2px rgba(0, 0, 0, 0.3));\n",
              "      fill: #FFFFFF;\n",
              "    }\n",
              "  </style>\n",
              "\n",
              "    <script>\n",
              "      const buttonEl =\n",
              "        document.querySelector('#df-39069e61-6514-465d-9637-3dafd0c81abe button.colab-df-convert');\n",
              "      buttonEl.style.display =\n",
              "        google.colab.kernel.accessAllowed ? 'block' : 'none';\n",
              "\n",
              "      async function convertToInteractive(key) {\n",
              "        const element = document.querySelector('#df-39069e61-6514-465d-9637-3dafd0c81abe');\n",
              "        const dataTable =\n",
              "          await google.colab.kernel.invokeFunction('convertToInteractive',\n",
              "                                                    [key], {});\n",
              "        if (!dataTable) return;\n",
              "\n",
              "        const docLinkHtml = 'Like what you see? Visit the ' +\n",
              "          '<a target=\"_blank\" href=https://colab.research.google.com/notebooks/data_table.ipynb>data table notebook</a>'\n",
              "          + ' to learn more about interactive tables.';\n",
              "        element.innerHTML = '';\n",
              "        dataTable['output_type'] = 'display_data';\n",
              "        await google.colab.output.renderOutput(dataTable, element);\n",
              "        const docLink = document.createElement('div');\n",
              "        docLink.innerHTML = docLinkHtml;\n",
              "        element.appendChild(docLink);\n",
              "      }\n",
              "    </script>\n",
              "  </div>\n",
              "\n",
              "\n",
              "    <div id=\"df-8870276e-9023-45e7-a93c-20706205e673\">\n",
              "      <button class=\"colab-df-quickchart\" onclick=\"quickchart('df-8870276e-9023-45e7-a93c-20706205e673')\"\n",
              "                title=\"Suggest charts\"\n",
              "                style=\"display:none;\">\n",
              "\n",
              "<svg xmlns=\"http://www.w3.org/2000/svg\" height=\"24px\"viewBox=\"0 0 24 24\"\n",
              "     width=\"24px\">\n",
              "    <g>\n",
              "        <path d=\"M19 3H5c-1.1 0-2 .9-2 2v14c0 1.1.9 2 2 2h14c1.1 0 2-.9 2-2V5c0-1.1-.9-2-2-2zM9 17H7v-7h2v7zm4 0h-2V7h2v10zm4 0h-2v-4h2v4z\"/>\n",
              "    </g>\n",
              "</svg>\n",
              "      </button>\n",
              "\n",
              "<style>\n",
              "  .colab-df-quickchart {\n",
              "      --bg-color: #E8F0FE;\n",
              "      --fill-color: #1967D2;\n",
              "      --hover-bg-color: #E2EBFA;\n",
              "      --hover-fill-color: #174EA6;\n",
              "      --disabled-fill-color: #AAA;\n",
              "      --disabled-bg-color: #DDD;\n",
              "  }\n",
              "\n",
              "  [theme=dark] .colab-df-quickchart {\n",
              "      --bg-color: #3B4455;\n",
              "      --fill-color: #D2E3FC;\n",
              "      --hover-bg-color: #434B5C;\n",
              "      --hover-fill-color: #FFFFFF;\n",
              "      --disabled-bg-color: #3B4455;\n",
              "      --disabled-fill-color: #666;\n",
              "  }\n",
              "\n",
              "  .colab-df-quickchart {\n",
              "    background-color: var(--bg-color);\n",
              "    border: none;\n",
              "    border-radius: 50%;\n",
              "    cursor: pointer;\n",
              "    display: none;\n",
              "    fill: var(--fill-color);\n",
              "    height: 32px;\n",
              "    padding: 0;\n",
              "    width: 32px;\n",
              "  }\n",
              "\n",
              "  .colab-df-quickchart:hover {\n",
              "    background-color: var(--hover-bg-color);\n",
              "    box-shadow: 0 1px 2px rgba(60, 64, 67, 0.3), 0 1px 3px 1px rgba(60, 64, 67, 0.15);\n",
              "    fill: var(--button-hover-fill-color);\n",
              "  }\n",
              "\n",
              "  .colab-df-quickchart-complete:disabled,\n",
              "  .colab-df-quickchart-complete:disabled:hover {\n",
              "    background-color: var(--disabled-bg-color);\n",
              "    fill: var(--disabled-fill-color);\n",
              "    box-shadow: none;\n",
              "  }\n",
              "\n",
              "  .colab-df-spinner {\n",
              "    border: 2px solid var(--fill-color);\n",
              "    border-color: transparent;\n",
              "    border-bottom-color: var(--fill-color);\n",
              "    animation:\n",
              "      spin 1s steps(1) infinite;\n",
              "  }\n",
              "\n",
              "  @keyframes spin {\n",
              "    0% {\n",
              "      border-color: transparent;\n",
              "      border-bottom-color: var(--fill-color);\n",
              "      border-left-color: var(--fill-color);\n",
              "    }\n",
              "    20% {\n",
              "      border-color: transparent;\n",
              "      border-left-color: var(--fill-color);\n",
              "      border-top-color: var(--fill-color);\n",
              "    }\n",
              "    30% {\n",
              "      border-color: transparent;\n",
              "      border-left-color: var(--fill-color);\n",
              "      border-top-color: var(--fill-color);\n",
              "      border-right-color: var(--fill-color);\n",
              "    }\n",
              "    40% {\n",
              "      border-color: transparent;\n",
              "      border-right-color: var(--fill-color);\n",
              "      border-top-color: var(--fill-color);\n",
              "    }\n",
              "    60% {\n",
              "      border-color: transparent;\n",
              "      border-right-color: var(--fill-color);\n",
              "    }\n",
              "    80% {\n",
              "      border-color: transparent;\n",
              "      border-right-color: var(--fill-color);\n",
              "      border-bottom-color: var(--fill-color);\n",
              "    }\n",
              "    90% {\n",
              "      border-color: transparent;\n",
              "      border-bottom-color: var(--fill-color);\n",
              "    }\n",
              "  }\n",
              "</style>\n",
              "\n",
              "      <script>\n",
              "        async function quickchart(key) {\n",
              "          const quickchartButtonEl =\n",
              "            document.querySelector('#' + key + ' button');\n",
              "          quickchartButtonEl.disabled = true;  // To prevent multiple clicks.\n",
              "          quickchartButtonEl.classList.add('colab-df-spinner');\n",
              "          try {\n",
              "            const charts = await google.colab.kernel.invokeFunction(\n",
              "                'suggestCharts', [key], {});\n",
              "          } catch (error) {\n",
              "            console.error('Error during call to suggestCharts:', error);\n",
              "          }\n",
              "          quickchartButtonEl.classList.remove('colab-df-spinner');\n",
              "          quickchartButtonEl.classList.add('colab-df-quickchart-complete');\n",
              "        }\n",
              "        (() => {\n",
              "          let quickchartButtonEl =\n",
              "            document.querySelector('#df-8870276e-9023-45e7-a93c-20706205e673 button');\n",
              "          quickchartButtonEl.style.display =\n",
              "            google.colab.kernel.accessAllowed ? 'block' : 'none';\n",
              "        })();\n",
              "      </script>\n",
              "    </div>\n",
              "\n",
              "    </div>\n",
              "  </div>\n"
            ],
            "application/vnd.google.colaboratory.intrinsic+json": {
              "type": "dataframe",
              "variable_name": "df",
              "summary": "{\n  \"name\": \"df\",\n  \"rows\": 1200,\n  \"fields\": [\n    {\n      \"column\": \"task\",\n      \"properties\": {\n        \"dtype\": \"category\",\n        \"num_unique_values\": 34,\n        \"samples\": [\n          \"Label the news article using sci/tech, world\",\n          \"Determine the theme of a news article from world, business\",\n          \"Classify news article as Opinion-based, Fact-based\"\n        ],\n        \"semantic_type\": \"\",\n        \"description\": \"\"\n      }\n    },\n    {\n      \"column\": \"input_text\",\n      \"properties\": {\n        \"dtype\": \"string\",\n        \"num_unique_values\": 1193,\n        \"samples\": [\n          \"The researchers at CERN have successfully implemented a new algorithm for optimizing the data processing speed in high-energy particle accelerators, which could potentially lead to breakthroughs in the field of subatomic physics.\",\n          \"The recent advancements in artificial intelligence have led to significant breakthroughs in natural language processing, enabling computers to understand and generate human-like text. This has far-reaching implications for various industries, including customer service, where chatbots can now provide personalized support to customers. However, experts warn that the increasing reliance on AI-powered chatbots may lead to job displacement for human customer service representatives.\",\n          \"The European Central Bank (ECB) announced a surprise 0.5% interest rate hike to combat rising inflation, citing concerns over the eurozone's economic growth and the potential impact of the ongoing Russia-Ukraine conflict. The move is seen as a bold step to maintain the stability of the euro and prevent a potential economic downturn.\"\n        ],\n        \"semantic_type\": \"\",\n        \"description\": \"\"\n      }\n    },\n    {\n      \"column\": \"label\",\n      \"properties\": {\n        \"dtype\": \"category\",\n        \"num_unique_values\": 9,\n        \"samples\": [\n          \"Opinion-based\",\n          \"sports\",\n          \"Business\"\n        ],\n        \"semantic_type\": \"\",\n        \"description\": \"\"\n      }\n    },\n    {\n      \"column\": \"misleading_label\",\n      \"properties\": {\n        \"dtype\": \"category\",\n        \"num_unique_values\": 7,\n        \"samples\": [\n          \"sports\",\n          \"business\",\n          \"Opinion-based\"\n        ],\n        \"semantic_type\": \"\",\n        \"description\": \"\"\n      }\n    },\n    {\n      \"column\": \"distilabel_metadata\",\n      \"properties\": {\n        \"dtype\": \"object\",\n        \"semantic_type\": \"\",\n        \"description\": \"\"\n      }\n    },\n    {\n      \"column\": \"model_name\",\n      \"properties\": {\n        \"dtype\": \"category\",\n        \"num_unique_values\": 1,\n        \"samples\": [\n          \"meta-llama/Meta-Llama-3.1-8B-Instruct\"\n        ],\n        \"semantic_type\": \"\",\n        \"description\": \"\"\n      }\n    }\n  ]\n}"
            }
          },
          "metadata": {},
          "execution_count": 2
        }
      ]
    },
    {
      "cell_type": "code",
      "source": [
        "df.isnull().sum()"
      ],
      "metadata": {
        "id": "QSaqUGbUchbC",
        "outputId": "179f4535-1a29-42b0-b472-8a02853025d3",
        "colab": {
          "base_uri": "https://localhost:8080/",
          "height": 272
        }
      },
      "execution_count": 3,
      "outputs": [
        {
          "output_type": "execute_result",
          "data": {
            "text/plain": [
              "task                   0\n",
              "input_text             3\n",
              "label                  3\n",
              "misleading_label       3\n",
              "distilabel_metadata    0\n",
              "model_name             0\n",
              "dtype: int64"
            ],
            "text/html": [
              "<div>\n",
              "<style scoped>\n",
              "    .dataframe tbody tr th:only-of-type {\n",
              "        vertical-align: middle;\n",
              "    }\n",
              "\n",
              "    .dataframe tbody tr th {\n",
              "        vertical-align: top;\n",
              "    }\n",
              "\n",
              "    .dataframe thead th {\n",
              "        text-align: right;\n",
              "    }\n",
              "</style>\n",
              "<table border=\"1\" class=\"dataframe\">\n",
              "  <thead>\n",
              "    <tr style=\"text-align: right;\">\n",
              "      <th></th>\n",
              "      <th>0</th>\n",
              "    </tr>\n",
              "  </thead>\n",
              "  <tbody>\n",
              "    <tr>\n",
              "      <th>task</th>\n",
              "      <td>0</td>\n",
              "    </tr>\n",
              "    <tr>\n",
              "      <th>input_text</th>\n",
              "      <td>3</td>\n",
              "    </tr>\n",
              "    <tr>\n",
              "      <th>label</th>\n",
              "      <td>3</td>\n",
              "    </tr>\n",
              "    <tr>\n",
              "      <th>misleading_label</th>\n",
              "      <td>3</td>\n",
              "    </tr>\n",
              "    <tr>\n",
              "      <th>distilabel_metadata</th>\n",
              "      <td>0</td>\n",
              "    </tr>\n",
              "    <tr>\n",
              "      <th>model_name</th>\n",
              "      <td>0</td>\n",
              "    </tr>\n",
              "  </tbody>\n",
              "</table>\n",
              "</div><br><label><b>dtype:</b> int64</label>"
            ]
          },
          "metadata": {},
          "execution_count": 3
        }
      ]
    },
    {
      "cell_type": "code",
      "source": [
        "df.dropna(subset=[\"input_text\", \"label\"])"
      ],
      "metadata": {
        "id": "ql_9380hciNm",
        "outputId": "f1fefe81-ddbd-477c-e707-6193db5a9fc9",
        "colab": {
          "base_uri": "https://localhost:8080/",
          "height": 597
        }
      },
      "execution_count": 4,
      "outputs": [
        {
          "output_type": "execute_result",
          "data": {
            "text/plain": [
              "                                                   task  \\\n",
              "0        Determine the news article as sports, business   \n",
              "1        Determine the news article as sports, business   \n",
              "2        Determine the news article as sports, business   \n",
              "3        Determine the news article as sports, business   \n",
              "4        Determine the news article as sports, business   \n",
              "...                                                 ...   \n",
              "1195  Recognize the topic of the news article as Fac...   \n",
              "1196  Recognize the topic of the news article as Fac...   \n",
              "1197  Recognize the topic of the news article as Fac...   \n",
              "1198  Recognize the topic of the news article as Fac...   \n",
              "1199  Recognize the topic of the news article as Fac...   \n",
              "\n",
              "                                             input_text          label  \\\n",
              "0     The recent surge in cryptocurrency prices has ...       business   \n",
              "1     The recent surge in the price of crude oil has...       business   \n",
              "2     The recent surge in cryptocurrency prices has ...       business   \n",
              "3     The New York Knicks' struggles on the court ha...       business   \n",
              "4     The New York Knicks' recent acquisition of sta...         sports   \n",
              "...                                                 ...            ...   \n",
              "1195  The recent study published in the Journal of E...     Fact-based   \n",
              "1196  The report by the World Health Organization su...     Fact-based   \n",
              "1197  The recent surge in global demand for renewabl...     Fact-based   \n",
              "1198  The recent study on the efficacy of renewable ...  Opinion-based   \n",
              "1199  The recent study on the effects of climate cha...     Fact-based   \n",
              "\n",
              "     misleading_label                                distilabel_metadata  \\\n",
              "0              sports  {'raw_output_generate_text_classification_data...   \n",
              "1              sports  {'raw_output_generate_text_classification_data...   \n",
              "2              sports  {'raw_output_generate_text_classification_data...   \n",
              "3              sports  {'raw_output_generate_text_classification_data...   \n",
              "4            business  {'raw_output_generate_text_classification_data...   \n",
              "...               ...                                                ...   \n",
              "1195    Opinion-based  {'raw_output_generate_text_classification_data...   \n",
              "1196    Opinion-based  {'raw_output_generate_text_classification_data...   \n",
              "1197    Opinion-based  {'raw_output_generate_text_classification_data...   \n",
              "1198       Fact-based  {'raw_output_generate_text_classification_data...   \n",
              "1199    Opinion-based  {'raw_output_generate_text_classification_data...   \n",
              "\n",
              "                                 model_name  \n",
              "0     meta-llama/Meta-Llama-3.1-8B-Instruct  \n",
              "1     meta-llama/Meta-Llama-3.1-8B-Instruct  \n",
              "2     meta-llama/Meta-Llama-3.1-8B-Instruct  \n",
              "3     meta-llama/Meta-Llama-3.1-8B-Instruct  \n",
              "4     meta-llama/Meta-Llama-3.1-8B-Instruct  \n",
              "...                                     ...  \n",
              "1195  meta-llama/Meta-Llama-3.1-8B-Instruct  \n",
              "1196  meta-llama/Meta-Llama-3.1-8B-Instruct  \n",
              "1197  meta-llama/Meta-Llama-3.1-8B-Instruct  \n",
              "1198  meta-llama/Meta-Llama-3.1-8B-Instruct  \n",
              "1199  meta-llama/Meta-Llama-3.1-8B-Instruct  \n",
              "\n",
              "[1197 rows x 6 columns]"
            ],
            "text/html": [
              "\n",
              "  <div id=\"df-8c435200-a18c-458d-9e9a-d31d2a02e343\" class=\"colab-df-container\">\n",
              "    <div>\n",
              "<style scoped>\n",
              "    .dataframe tbody tr th:only-of-type {\n",
              "        vertical-align: middle;\n",
              "    }\n",
              "\n",
              "    .dataframe tbody tr th {\n",
              "        vertical-align: top;\n",
              "    }\n",
              "\n",
              "    .dataframe thead th {\n",
              "        text-align: right;\n",
              "    }\n",
              "</style>\n",
              "<table border=\"1\" class=\"dataframe\">\n",
              "  <thead>\n",
              "    <tr style=\"text-align: right;\">\n",
              "      <th></th>\n",
              "      <th>task</th>\n",
              "      <th>input_text</th>\n",
              "      <th>label</th>\n",
              "      <th>misleading_label</th>\n",
              "      <th>distilabel_metadata</th>\n",
              "      <th>model_name</th>\n",
              "    </tr>\n",
              "  </thead>\n",
              "  <tbody>\n",
              "    <tr>\n",
              "      <th>0</th>\n",
              "      <td>Determine the news article as sports, business</td>\n",
              "      <td>The recent surge in cryptocurrency prices has ...</td>\n",
              "      <td>business</td>\n",
              "      <td>sports</td>\n",
              "      <td>{'raw_output_generate_text_classification_data...</td>\n",
              "      <td>meta-llama/Meta-Llama-3.1-8B-Instruct</td>\n",
              "    </tr>\n",
              "    <tr>\n",
              "      <th>1</th>\n",
              "      <td>Determine the news article as sports, business</td>\n",
              "      <td>The recent surge in the price of crude oil has...</td>\n",
              "      <td>business</td>\n",
              "      <td>sports</td>\n",
              "      <td>{'raw_output_generate_text_classification_data...</td>\n",
              "      <td>meta-llama/Meta-Llama-3.1-8B-Instruct</td>\n",
              "    </tr>\n",
              "    <tr>\n",
              "      <th>2</th>\n",
              "      <td>Determine the news article as sports, business</td>\n",
              "      <td>The recent surge in cryptocurrency prices has ...</td>\n",
              "      <td>business</td>\n",
              "      <td>sports</td>\n",
              "      <td>{'raw_output_generate_text_classification_data...</td>\n",
              "      <td>meta-llama/Meta-Llama-3.1-8B-Instruct</td>\n",
              "    </tr>\n",
              "    <tr>\n",
              "      <th>3</th>\n",
              "      <td>Determine the news article as sports, business</td>\n",
              "      <td>The New York Knicks' struggles on the court ha...</td>\n",
              "      <td>business</td>\n",
              "      <td>sports</td>\n",
              "      <td>{'raw_output_generate_text_classification_data...</td>\n",
              "      <td>meta-llama/Meta-Llama-3.1-8B-Instruct</td>\n",
              "    </tr>\n",
              "    <tr>\n",
              "      <th>4</th>\n",
              "      <td>Determine the news article as sports, business</td>\n",
              "      <td>The New York Knicks' recent acquisition of sta...</td>\n",
              "      <td>sports</td>\n",
              "      <td>business</td>\n",
              "      <td>{'raw_output_generate_text_classification_data...</td>\n",
              "      <td>meta-llama/Meta-Llama-3.1-8B-Instruct</td>\n",
              "    </tr>\n",
              "    <tr>\n",
              "      <th>...</th>\n",
              "      <td>...</td>\n",
              "      <td>...</td>\n",
              "      <td>...</td>\n",
              "      <td>...</td>\n",
              "      <td>...</td>\n",
              "      <td>...</td>\n",
              "    </tr>\n",
              "    <tr>\n",
              "      <th>1195</th>\n",
              "      <td>Recognize the topic of the news article as Fac...</td>\n",
              "      <td>The recent study published in the Journal of E...</td>\n",
              "      <td>Fact-based</td>\n",
              "      <td>Opinion-based</td>\n",
              "      <td>{'raw_output_generate_text_classification_data...</td>\n",
              "      <td>meta-llama/Meta-Llama-3.1-8B-Instruct</td>\n",
              "    </tr>\n",
              "    <tr>\n",
              "      <th>1196</th>\n",
              "      <td>Recognize the topic of the news article as Fac...</td>\n",
              "      <td>The report by the World Health Organization su...</td>\n",
              "      <td>Fact-based</td>\n",
              "      <td>Opinion-based</td>\n",
              "      <td>{'raw_output_generate_text_classification_data...</td>\n",
              "      <td>meta-llama/Meta-Llama-3.1-8B-Instruct</td>\n",
              "    </tr>\n",
              "    <tr>\n",
              "      <th>1197</th>\n",
              "      <td>Recognize the topic of the news article as Fac...</td>\n",
              "      <td>The recent surge in global demand for renewabl...</td>\n",
              "      <td>Fact-based</td>\n",
              "      <td>Opinion-based</td>\n",
              "      <td>{'raw_output_generate_text_classification_data...</td>\n",
              "      <td>meta-llama/Meta-Llama-3.1-8B-Instruct</td>\n",
              "    </tr>\n",
              "    <tr>\n",
              "      <th>1198</th>\n",
              "      <td>Recognize the topic of the news article as Fac...</td>\n",
              "      <td>The recent study on the efficacy of renewable ...</td>\n",
              "      <td>Opinion-based</td>\n",
              "      <td>Fact-based</td>\n",
              "      <td>{'raw_output_generate_text_classification_data...</td>\n",
              "      <td>meta-llama/Meta-Llama-3.1-8B-Instruct</td>\n",
              "    </tr>\n",
              "    <tr>\n",
              "      <th>1199</th>\n",
              "      <td>Recognize the topic of the news article as Fac...</td>\n",
              "      <td>The recent study on the effects of climate cha...</td>\n",
              "      <td>Fact-based</td>\n",
              "      <td>Opinion-based</td>\n",
              "      <td>{'raw_output_generate_text_classification_data...</td>\n",
              "      <td>meta-llama/Meta-Llama-3.1-8B-Instruct</td>\n",
              "    </tr>\n",
              "  </tbody>\n",
              "</table>\n",
              "<p>1197 rows \u00d7 6 columns</p>\n",
              "</div>\n",
              "    <div class=\"colab-df-buttons\">\n",
              "\n",
              "  <div class=\"colab-df-container\">\n",
              "    <button class=\"colab-df-convert\" onclick=\"convertToInteractive('df-8c435200-a18c-458d-9e9a-d31d2a02e343')\"\n",
              "            title=\"Convert this dataframe to an interactive table.\"\n",
              "            style=\"display:none;\">\n",
              "\n",
              "  <svg xmlns=\"http://www.w3.org/2000/svg\" height=\"24px\" viewBox=\"0 -960 960 960\">\n",
              "    <path d=\"M120-120v-720h720v720H120Zm60-500h600v-160H180v160Zm220 220h160v-160H400v160Zm0 220h160v-160H400v160ZM180-400h160v-160H180v160Zm440 0h160v-160H620v160ZM180-180h160v-160H180v160Zm440 0h160v-160H620v160Z\"/>\n",
              "  </svg>\n",
              "    </button>\n",
              "\n",
              "  <style>\n",
              "    .colab-df-container {\n",
              "      display:flex;\n",
              "      gap: 12px;\n",
              "    }\n",
              "\n",
              "    .colab-df-convert {\n",
              "      background-color: #E8F0FE;\n",
              "      border: none;\n",
              "      border-radius: 50%;\n",
              "      cursor: pointer;\n",
              "      display: none;\n",
              "      fill: #1967D2;\n",
              "      height: 32px;\n",
              "      padding: 0 0 0 0;\n",
              "      width: 32px;\n",
              "    }\n",
              "\n",
              "    .colab-df-convert:hover {\n",
              "      background-color: #E2EBFA;\n",
              "      box-shadow: 0px 1px 2px rgba(60, 64, 67, 0.3), 0px 1px 3px 1px rgba(60, 64, 67, 0.15);\n",
              "      fill: #174EA6;\n",
              "    }\n",
              "\n",
              "    .colab-df-buttons div {\n",
              "      margin-bottom: 4px;\n",
              "    }\n",
              "\n",
              "    [theme=dark] .colab-df-convert {\n",
              "      background-color: #3B4455;\n",
              "      fill: #D2E3FC;\n",
              "    }\n",
              "\n",
              "    [theme=dark] .colab-df-convert:hover {\n",
              "      background-color: #434B5C;\n",
              "      box-shadow: 0px 1px 3px 1px rgba(0, 0, 0, 0.15);\n",
              "      filter: drop-shadow(0px 1px 2px rgba(0, 0, 0, 0.3));\n",
              "      fill: #FFFFFF;\n",
              "    }\n",
              "  </style>\n",
              "\n",
              "    <script>\n",
              "      const buttonEl =\n",
              "        document.querySelector('#df-8c435200-a18c-458d-9e9a-d31d2a02e343 button.colab-df-convert');\n",
              "      buttonEl.style.display =\n",
              "        google.colab.kernel.accessAllowed ? 'block' : 'none';\n",
              "\n",
              "      async function convertToInteractive(key) {\n",
              "        const element = document.querySelector('#df-8c435200-a18c-458d-9e9a-d31d2a02e343');\n",
              "        const dataTable =\n",
              "          await google.colab.kernel.invokeFunction('convertToInteractive',\n",
              "                                                    [key], {});\n",
              "        if (!dataTable) return;\n",
              "\n",
              "        const docLinkHtml = 'Like what you see? Visit the ' +\n",
              "          '<a target=\"_blank\" href=https://colab.research.google.com/notebooks/data_table.ipynb>data table notebook</a>'\n",
              "          + ' to learn more about interactive tables.';\n",
              "        element.innerHTML = '';\n",
              "        dataTable['output_type'] = 'display_data';\n",
              "        await google.colab.output.renderOutput(dataTable, element);\n",
              "        const docLink = document.createElement('div');\n",
              "        docLink.innerHTML = docLinkHtml;\n",
              "        element.appendChild(docLink);\n",
              "      }\n",
              "    </script>\n",
              "  </div>\n",
              "\n",
              "\n",
              "    <div id=\"df-2e185e16-dea7-47b6-8fd2-574d03351cbb\">\n",
              "      <button class=\"colab-df-quickchart\" onclick=\"quickchart('df-2e185e16-dea7-47b6-8fd2-574d03351cbb')\"\n",
              "                title=\"Suggest charts\"\n",
              "                style=\"display:none;\">\n",
              "\n",
              "<svg xmlns=\"http://www.w3.org/2000/svg\" height=\"24px\"viewBox=\"0 0 24 24\"\n",
              "     width=\"24px\">\n",
              "    <g>\n",
              "        <path d=\"M19 3H5c-1.1 0-2 .9-2 2v14c0 1.1.9 2 2 2h14c1.1 0 2-.9 2-2V5c0-1.1-.9-2-2-2zM9 17H7v-7h2v7zm4 0h-2V7h2v10zm4 0h-2v-4h2v4z\"/>\n",
              "    </g>\n",
              "</svg>\n",
              "      </button>\n",
              "\n",
              "<style>\n",
              "  .colab-df-quickchart {\n",
              "      --bg-color: #E8F0FE;\n",
              "      --fill-color: #1967D2;\n",
              "      --hover-bg-color: #E2EBFA;\n",
              "      --hover-fill-color: #174EA6;\n",
              "      --disabled-fill-color: #AAA;\n",
              "      --disabled-bg-color: #DDD;\n",
              "  }\n",
              "\n",
              "  [theme=dark] .colab-df-quickchart {\n",
              "      --bg-color: #3B4455;\n",
              "      --fill-color: #D2E3FC;\n",
              "      --hover-bg-color: #434B5C;\n",
              "      --hover-fill-color: #FFFFFF;\n",
              "      --disabled-bg-color: #3B4455;\n",
              "      --disabled-fill-color: #666;\n",
              "  }\n",
              "\n",
              "  .colab-df-quickchart {\n",
              "    background-color: var(--bg-color);\n",
              "    border: none;\n",
              "    border-radius: 50%;\n",
              "    cursor: pointer;\n",
              "    display: none;\n",
              "    fill: var(--fill-color);\n",
              "    height: 32px;\n",
              "    padding: 0;\n",
              "    width: 32px;\n",
              "  }\n",
              "\n",
              "  .colab-df-quickchart:hover {\n",
              "    background-color: var(--hover-bg-color);\n",
              "    box-shadow: 0 1px 2px rgba(60, 64, 67, 0.3), 0 1px 3px 1px rgba(60, 64, 67, 0.15);\n",
              "    fill: var(--button-hover-fill-color);\n",
              "  }\n",
              "\n",
              "  .colab-df-quickchart-complete:disabled,\n",
              "  .colab-df-quickchart-complete:disabled:hover {\n",
              "    background-color: var(--disabled-bg-color);\n",
              "    fill: var(--disabled-fill-color);\n",
              "    box-shadow: none;\n",
              "  }\n",
              "\n",
              "  .colab-df-spinner {\n",
              "    border: 2px solid var(--fill-color);\n",
              "    border-color: transparent;\n",
              "    border-bottom-color: var(--fill-color);\n",
              "    animation:\n",
              "      spin 1s steps(1) infinite;\n",
              "  }\n",
              "\n",
              "  @keyframes spin {\n",
              "    0% {\n",
              "      border-color: transparent;\n",
              "      border-bottom-color: var(--fill-color);\n",
              "      border-left-color: var(--fill-color);\n",
              "    }\n",
              "    20% {\n",
              "      border-color: transparent;\n",
              "      border-left-color: var(--fill-color);\n",
              "      border-top-color: var(--fill-color);\n",
              "    }\n",
              "    30% {\n",
              "      border-color: transparent;\n",
              "      border-left-color: var(--fill-color);\n",
              "      border-top-color: var(--fill-color);\n",
              "      border-right-color: var(--fill-color);\n",
              "    }\n",
              "    40% {\n",
              "      border-color: transparent;\n",
              "      border-right-color: var(--fill-color);\n",
              "      border-top-color: var(--fill-color);\n",
              "    }\n",
              "    60% {\n",
              "      border-color: transparent;\n",
              "      border-right-color: var(--fill-color);\n",
              "    }\n",
              "    80% {\n",
              "      border-color: transparent;\n",
              "      border-right-color: var(--fill-color);\n",
              "      border-bottom-color: var(--fill-color);\n",
              "    }\n",
              "    90% {\n",
              "      border-color: transparent;\n",
              "      border-bottom-color: var(--fill-color);\n",
              "    }\n",
              "  }\n",
              "</style>\n",
              "\n",
              "      <script>\n",
              "        async function quickchart(key) {\n",
              "          const quickchartButtonEl =\n",
              "            document.querySelector('#' + key + ' button');\n",
              "          quickchartButtonEl.disabled = true;  // To prevent multiple clicks.\n",
              "          quickchartButtonEl.classList.add('colab-df-spinner');\n",
              "          try {\n",
              "            const charts = await google.colab.kernel.invokeFunction(\n",
              "                'suggestCharts', [key], {});\n",
              "          } catch (error) {\n",
              "            console.error('Error during call to suggestCharts:', error);\n",
              "          }\n",
              "          quickchartButtonEl.classList.remove('colab-df-spinner');\n",
              "          quickchartButtonEl.classList.add('colab-df-quickchart-complete');\n",
              "        }\n",
              "        (() => {\n",
              "          let quickchartButtonEl =\n",
              "            document.querySelector('#df-2e185e16-dea7-47b6-8fd2-574d03351cbb button');\n",
              "          quickchartButtonEl.style.display =\n",
              "            google.colab.kernel.accessAllowed ? 'block' : 'none';\n",
              "        })();\n",
              "      </script>\n",
              "    </div>\n",
              "\n",
              "    </div>\n",
              "  </div>\n"
            ],
            "application/vnd.google.colaboratory.intrinsic+json": {
              "type": "dataframe",
              "summary": "{\n  \"name\": \"df\",\n  \"rows\": 1197,\n  \"fields\": [\n    {\n      \"column\": \"task\",\n      \"properties\": {\n        \"dtype\": \"category\",\n        \"num_unique_values\": 34,\n        \"samples\": [\n          \"Label the news article using sci/tech, world\",\n          \"Determine the theme of a news article from world, business\",\n          \"Classify news article as Opinion-based, Fact-based\"\n        ],\n        \"semantic_type\": \"\",\n        \"description\": \"\"\n      }\n    },\n    {\n      \"column\": \"input_text\",\n      \"properties\": {\n        \"dtype\": \"string\",\n        \"num_unique_values\": 1193,\n        \"samples\": [\n          \"The researchers at CERN have successfully implemented a new algorithm for optimizing the data processing speed in high-energy particle accelerators, which could potentially lead to breakthroughs in the field of subatomic physics.\",\n          \"The recent advancements in artificial intelligence have led to significant breakthroughs in natural language processing, enabling computers to understand and generate human-like text. This has far-reaching implications for various industries, including customer service, where chatbots can now provide personalized support to customers. However, experts warn that the increasing reliance on AI-powered chatbots may lead to job displacement for human customer service representatives.\",\n          \"The European Central Bank (ECB) announced a surprise 0.5% interest rate hike to combat rising inflation, citing concerns over the eurozone's economic growth and the potential impact of the ongoing Russia-Ukraine conflict. The move is seen as a bold step to maintain the stability of the euro and prevent a potential economic downturn.\"\n        ],\n        \"semantic_type\": \"\",\n        \"description\": \"\"\n      }\n    },\n    {\n      \"column\": \"label\",\n      \"properties\": {\n        \"dtype\": \"category\",\n        \"num_unique_values\": 9,\n        \"samples\": [\n          \"Opinion-based\",\n          \"sports\",\n          \"Business\"\n        ],\n        \"semantic_type\": \"\",\n        \"description\": \"\"\n      }\n    },\n    {\n      \"column\": \"misleading_label\",\n      \"properties\": {\n        \"dtype\": \"category\",\n        \"num_unique_values\": 7,\n        \"samples\": [\n          \"sports\",\n          \"business\",\n          \"Opinion-based\"\n        ],\n        \"semantic_type\": \"\",\n        \"description\": \"\"\n      }\n    },\n    {\n      \"column\": \"distilabel_metadata\",\n      \"properties\": {\n        \"dtype\": \"object\",\n        \"semantic_type\": \"\",\n        \"description\": \"\"\n      }\n    },\n    {\n      \"column\": \"model_name\",\n      \"properties\": {\n        \"dtype\": \"category\",\n        \"num_unique_values\": 1,\n        \"samples\": [\n          \"meta-llama/Meta-Llama-3.1-8B-Instruct\"\n        ],\n        \"semantic_type\": \"\",\n        \"description\": \"\"\n      }\n    }\n  ]\n}"
            }
          },
          "metadata": {},
          "execution_count": 4
        }
      ]
    },
    {
      "cell_type": "code",
      "source": [
        "print(df[\"label\"].value_counts())"
      ],
      "metadata": {
        "id": "GfOJTri6cklh",
        "outputId": "f78ce486-9b1d-4859-ab86-6592115253ec",
        "colab": {
          "base_uri": "https://localhost:8080/"
        }
      },
      "execution_count": 5,
      "outputs": [
        {
          "output_type": "stream",
          "name": "stdout",
          "text": [
            "label\n",
            "sci/tech              383\n",
            "business              267\n",
            "world                 193\n",
            "Fact-based            129\n",
            "Opinion-based         111\n",
            "sports                 76\n",
            "sci                    30\n",
            "Business                7\n",
            "science_technology      1\n",
            "Name: count, dtype: int64\n"
          ]
        }
      ]
    },
    {
      "cell_type": "code",
      "source": [
        "from sklearn.preprocessing import LabelEncoder\n",
        "\n",
        "le = LabelEncoder()\n",
        "df[\"label_id\"] = le.fit_transform(df[\"label\"])\n",
        "label2id = dict(zip(le.classes_, le.transform(le.classes_)))\n",
        "id2label = {v: k for k, v in label2id.items()}"
      ],
      "metadata": {
        "id": "Mxc92tZfcm6p"
      },
      "execution_count": 6,
      "outputs": []
    },
    {
      "cell_type": "code",
      "source": [
        "from transformers import AutoTokenizer\n",
        "\n",
        "tokenizer = AutoTokenizer.from_pretrained(\"microsoft/Multilingual-MiniLM-L12-H384\")"
      ],
      "metadata": {
        "id": "hATc54iecpSW",
        "outputId": "7a79a028-2787-42de-e597-38b12e125adf",
        "colab": {
          "base_uri": "https://localhost:8080/",
          "height": 113,
          "referenced_widgets": [
            "15c240fb809345438e8b85375d952ddd",
            "2e1b7f3fab1d49dc9451668acfc84052",
            "a6d7a1486e8a4e0195cc4cfacfa19ec2",
            "d23990e40e5b499981233f8e28a5c43d",
            "9327b683c25743318a5d0f6f2a25e618",
            "54be7976160b4c4eaa540e1ff86d616e",
            "16d58889452342939150d8cfcfe2e1a8",
            "1e7b9c04ba4f45d29c8a091256ef2c8b",
            "3ca30a9be78545efb75d77edd511b892",
            "5f9d07d2b7954798859a1a148d86a6c4",
            "b9e3e2bc385943239e85e06bd0d67bfd",
            "b6ea8820f01d4ac499ab5e19948b9f2b",
            "f75310f8d9de46aea7dd716d1381b138",
            "7a98158dd4354171941667773e30f9fa",
            "9f5416702552467eb20d756e2645e4dc",
            "618ecbf5487a46d498070d9b9d99cdd4",
            "4eec847e99954fe6bcf5cdd4650e85f9",
            "3d467bb047c44f0598d0c70947a3d27c",
            "4102e940da51407b817c133ebcc36836",
            "37e8c93c156f4f9c84f6f28e80e30ed5",
            "5a31755956c847b88df63b6bf443071e",
            "1b1843905327421380768ebb4dbf9084",
            "e661d7f977654ef9a5639dc92bf29895",
            "8517bfa0b97a4f11941c1cc68a764ffc",
            "0e2e99fbcb494e2bb34c2a4b3f27ac9f",
            "eb9941c2a3d247b8beb34ac743ca337d",
            "cb1a7344d7f045fb8a929f53318c4bf9",
            "f332ee3f4f0b4f9ca859883ad711a43e",
            "1a0482970bf74f068cc1f27e79f61466",
            "38e34ea7446e40b8ac9575fab1c9f5ea",
            "0c0b12bf69bf45bfa2f34c486f37958d",
            "bd8177d1bfdd4187814f802bba7c6acd",
            "ed866f9e2f3b43c186b140e5283026c1"
          ]
        }
      },
      "execution_count": 7,
      "outputs": [
        {
          "output_type": "display_data",
          "data": {
            "text/plain": [
              "tokenizer_config.json:   0%|          | 0.00/2.00 [00:00<?, ?B/s]"
            ],
            "application/vnd.jupyter.widget-view+json": {
              "version_major": 2,
              "version_minor": 0,
              "model_id": "15c240fb809345438e8b85375d952ddd"
            }
          },
          "metadata": {}
        },
        {
          "output_type": "display_data",
          "data": {
            "text/plain": [
              "sentencepiece.bpe.model:   0%|          | 0.00/5.07M [00:00<?, ?B/s]"
            ],
            "application/vnd.jupyter.widget-view+json": {
              "version_major": 2,
              "version_minor": 0,
              "model_id": "b6ea8820f01d4ac499ab5e19948b9f2b"
            }
          },
          "metadata": {}
        },
        {
          "output_type": "display_data",
          "data": {
            "text/plain": [
              "special_tokens_map.json:   0%|          | 0.00/150 [00:00<?, ?B/s]"
            ],
            "application/vnd.jupyter.widget-view+json": {
              "version_major": 2,
              "version_minor": 0,
              "model_id": "e661d7f977654ef9a5639dc92bf29895"
            }
          },
          "metadata": {}
        }
      ]
    },
    {
      "cell_type": "code",
      "source": [
        "from datasets import Dataset, Features, Value, ClassLabel\n",
        "df[\"input_text\"] = df[\"input_text\"].astype(str)\n",
        "df[\"label\"] = df[\"label_id\"]\n",
        "\n",
        "features = Features({\n",
        "    \"input_text\": Value(\"string\"),\n",
        "    \"label\": ClassLabel(num_classes=len(df[\"label\"].unique()))\n",
        "})"
      ],
      "metadata": {
        "id": "1eZJCmHXc9Dh"
      },
      "execution_count": 8,
      "outputs": []
    },
    {
      "cell_type": "code",
      "source": [
        "dataset = Dataset.from_pandas(df[[\"input_text\", \"label\"]], features=features)"
      ],
      "metadata": {
        "id": "lfjpPVqWc_8G"
      },
      "execution_count": 9,
      "outputs": []
    },
    {
      "cell_type": "code",
      "source": [
        "def tokenize_function(examples):\n",
        "    return tokenizer(\n",
        "        examples[\"input_text\"],\n",
        "        padding=\"max_length\",\n",
        "        truncation=True,\n",
        "        max_length=256,\n",
        "    )\n",
        "\n",
        "tokenized_dataset = dataset.map(tokenize_function, batched=True)"
      ],
      "metadata": {
        "id": "yYvSxqaFdCau",
        "outputId": "6541a128-c580-45b5-c04a-069291b40f9e",
        "colab": {
          "base_uri": "https://localhost:8080/",
          "height": 49,
          "referenced_widgets": [
            "b6792a9faf364fa1a15c1d4930028a7a",
            "02e0a4218f0b40c5966f3d8c21d9bf12",
            "3ad68d16d7d94b8a8207f72815ad8450",
            "aea4a89b53dd4e55ba1bcb41638cd19e",
            "4bd8e407464e405fa56f08e29b2c7c31",
            "206db3d8233446dcaa1daa3ad36cc49f",
            "3ab249f743974f8a8428f55982ad6fe4",
            "e3b2ece91ced4afcba5378eb77b4bd48",
            "b78fa916af094dc681954c9de54e0480",
            "07450f538bb24a5aa8d996d476dd84af",
            "34a0ede9c9cb450e872a946e19831554"
          ]
        }
      },
      "execution_count": 10,
      "outputs": [
        {
          "output_type": "display_data",
          "data": {
            "text/plain": [
              "Map:   0%|          | 0/1200 [00:00<?, ? examples/s]"
            ],
            "application/vnd.jupyter.widget-view+json": {
              "version_major": 2,
              "version_minor": 0,
              "model_id": "b6792a9faf364fa1a15c1d4930028a7a"
            }
          },
          "metadata": {}
        }
      ]
    },
    {
      "cell_type": "code",
      "source": [
        "from datasets import DatasetDict\n",
        "\n",
        "split_dataset = tokenized_dataset.train_test_split(test_size=0.2)\n",
        "\n",
        "from transformers import AutoModelForSequenceClassification, TrainingArguments, Trainer\n",
        "import numpy as np"
      ],
      "metadata": {
        "id": "f9hz0XQXdE0P"
      },
      "execution_count": 11,
      "outputs": []
    },
    {
      "cell_type": "code",
      "source": [
        "from transformers import AutoModelForSequenceClassification\n",
        "\n",
        "model = AutoModelForSequenceClassification.from_pretrained(\n",
        "    \"microsoft/Multilingual-MiniLM-L12-H384\",\n",
        "    num_labels=10\n",
        ")"
      ],
      "metadata": {
        "id": "wosRgNwfdIHi",
        "outputId": "c14229b5-c2f5-49bf-fe79-ad63744adfc9",
        "colab": {
          "base_uri": "https://localhost:8080/"
        }
      },
      "execution_count": 12,
      "outputs": [
        {
          "output_type": "stream",
          "name": "stderr",
          "text": [
            "Some weights of BertForSequenceClassification were not initialized from the model checkpoint at microsoft/Multilingual-MiniLM-L12-H384 and are newly initialized: ['classifier.bias', 'classifier.weight']\n",
            "You should probably TRAIN this model on a down-stream task to be able to use it for predictions and inference.\n"
          ]
        }
      ]
    },
    {
      "cell_type": "code",
      "source": [
        "from sklearn.metrics import accuracy_score, precision_recall_fscore_support\n",
        "\n",
        "def compute_metrics(pred):\n",
        "    labels = pred.label_ids\n",
        "    preds = pred.predictions.argmax(-1)\n",
        "\n",
        "    acc = accuracy_score(labels, preds)\n",
        "    precision, recall, f1, _ = precision_recall_fscore_support(labels, preds, average='weighted')\n",
        "\n",
        "    return {\n",
        "        'accuracy': acc,\n",
        "        'precision': precision,\n",
        "        'recall': recall,\n",
        "        'f1': f1,\n",
        "    }"
      ],
      "metadata": {
        "id": "8ElEDJRXdQST"
      },
      "execution_count": 13,
      "outputs": []
    },
    {
      "cell_type": "code",
      "source": [
        " from transformers import Trainer, TrainingArguments\n",
        "\n",
        "training_args = TrainingArguments(\n",
        "    output_dir=\"./results\",\n",
        "    per_device_train_batch_size=16,\n",
        "    num_train_epochs=3,\n",
        "    learning_rate=2e-5,\n",
        "    logging_steps=10,\n",
        "    logging_dir=\"./logs\",\n",
        "    report_to=\"none\"\n",
        ")"
      ],
      "metadata": {
        "id": "NWKiHGOEdT3D"
      },
      "execution_count": 14,
      "outputs": []
    },
    {
      "cell_type": "code",
      "source": [
        "trainer = Trainer(\n",
        "    model=model,\n",
        "    args=training_args,\n",
        "    train_dataset=split_dataset[\"train\"],\n",
        "    eval_dataset=split_dataset[\"test\"],\n",
        "    tokenizer=tokenizer,\n",
        "    compute_metrics=compute_metrics\n",
        ")\n",
        "\n",
        "trainer.train()"
      ],
      "metadata": {
        "id": "Mp35F9HRdWEt",
        "outputId": "59f8a110-146f-4d04-ebe3-e3dc7885e2ed",
        "colab": {
          "base_uri": "https://localhost:8080/",
          "height": 729
        }
      },
      "execution_count": 15,
      "outputs": [
        {
          "output_type": "stream",
          "name": "stderr",
          "text": [
            "/tmp/ipython-input-15-3145630117.py:1: FutureWarning: `tokenizer` is deprecated and will be removed in version 5.0.0 for `Trainer.__init__`. Use `processing_class` instead.\n",
            "  trainer = Trainer(\n"
          ]
        },
        {
          "output_type": "display_data",
          "data": {
            "text/plain": [
              "<IPython.core.display.HTML object>"
            ],
            "text/html": [
              "\n",
              "    <div>\n",
              "      \n",
              "      <progress value='180' max='180' style='width:300px; height:20px; vertical-align: middle;'></progress>\n",
              "      [180/180 01:00, Epoch 3/3]\n",
              "    </div>\n",
              "    <table border=\"1\" class=\"dataframe\">\n",
              "  <thead>\n",
              " <tr style=\"text-align: left;\">\n",
              "      <th>Step</th>\n",
              "      <th>Training Loss</th>\n",
              "    </tr>\n",
              "  </thead>\n",
              "  <tbody>\n",
              "    <tr>\n",
              "      <td>10</td>\n",
              "      <td>2.277200</td>\n",
              "    </tr>\n",
              "    <tr>\n",
              "      <td>20</td>\n",
              "      <td>2.230900</td>\n",
              "    </tr>\n",
              "    <tr>\n",
              "      <td>30</td>\n",
              "      <td>2.203500</td>\n",
              "    </tr>\n",
              "    <tr>\n",
              "      <td>40</td>\n",
              "      <td>2.106600</td>\n",
              "    </tr>\n",
              "    <tr>\n",
              "      <td>50</td>\n",
              "      <td>2.085300</td>\n",
              "    </tr>\n",
              "    <tr>\n",
              "      <td>60</td>\n",
              "      <td>2.034300</td>\n",
              "    </tr>\n",
              "    <tr>\n",
              "      <td>70</td>\n",
              "      <td>1.979500</td>\n",
              "    </tr>\n",
              "    <tr>\n",
              "      <td>80</td>\n",
              "      <td>1.951900</td>\n",
              "    </tr>\n",
              "    <tr>\n",
              "      <td>90</td>\n",
              "      <td>1.932000</td>\n",
              "    </tr>\n",
              "    <tr>\n",
              "      <td>100</td>\n",
              "      <td>1.850400</td>\n",
              "    </tr>\n",
              "    <tr>\n",
              "      <td>110</td>\n",
              "      <td>1.852200</td>\n",
              "    </tr>\n",
              "    <tr>\n",
              "      <td>120</td>\n",
              "      <td>1.818200</td>\n",
              "    </tr>\n",
              "    <tr>\n",
              "      <td>130</td>\n",
              "      <td>1.819200</td>\n",
              "    </tr>\n",
              "    <tr>\n",
              "      <td>140</td>\n",
              "      <td>1.875300</td>\n",
              "    </tr>\n",
              "    <tr>\n",
              "      <td>150</td>\n",
              "      <td>1.754100</td>\n",
              "    </tr>\n",
              "    <tr>\n",
              "      <td>160</td>\n",
              "      <td>1.769100</td>\n",
              "    </tr>\n",
              "    <tr>\n",
              "      <td>170</td>\n",
              "      <td>1.777300</td>\n",
              "    </tr>\n",
              "    <tr>\n",
              "      <td>180</td>\n",
              "      <td>1.719700</td>\n",
              "    </tr>\n",
              "  </tbody>\n",
              "</table><p>"
            ]
          },
          "metadata": {}
        },
        {
          "output_type": "execute_result",
          "data": {
            "text/plain": [
              "TrainOutput(global_step=180, training_loss=1.9464754104614257, metrics={'train_runtime': 62.6215, 'train_samples_per_second': 45.991, 'train_steps_per_second': 2.874, 'total_flos': 94870356295680.0, 'train_loss': 1.9464754104614257, 'epoch': 3.0})"
            ]
          },
          "metadata": {},
          "execution_count": 15
        }
      ]
    },
    {
      "cell_type": "code",
      "source": [
        "trainer.evaluate()"
      ],
      "metadata": {
        "id": "rA7s1OGsdohk",
        "outputId": "79010c42-a3d8-425c-b984-6a7513e3d1a0",
        "colab": {
          "base_uri": "https://localhost:8080/",
          "height": 248
        }
      },
      "execution_count": 16,
      "outputs": [
        {
          "output_type": "display_data",
          "data": {
            "text/plain": [
              "<IPython.core.display.HTML object>"
            ],
            "text/html": [
              "\n",
              "    <div>\n",
              "      \n",
              "      <progress value='30' max='30' style='width:300px; height:20px; vertical-align: middle;'></progress>\n",
              "      [30/30 00:01]\n",
              "    </div>\n",
              "    "
            ]
          },
          "metadata": {}
        },
        {
          "output_type": "stream",
          "name": "stderr",
          "text": [
            "/usr/local/lib/python3.11/dist-packages/sklearn/metrics/_classification.py:1565: UndefinedMetricWarning: Precision is ill-defined and being set to 0.0 in labels with no predicted samples. Use `zero_division` parameter to control this behavior.\n",
            "  _warn_prf(average, modifier, f\"{metric.capitalize()} is\", len(result))\n"
          ]
        },
        {
          "output_type": "execute_result",
          "data": {
            "text/plain": [
              "{'eval_loss': 1.7187321186065674,\n",
              " 'eval_accuracy': 0.5666666666666667,\n",
              " 'eval_precision': 0.40842531131007515,\n",
              " 'eval_recall': 0.5666666666666667,\n",
              " 'eval_f1': 0.45384039784346536,\n",
              " 'eval_runtime': 1.3724,\n",
              " 'eval_samples_per_second': 174.871,\n",
              " 'eval_steps_per_second': 21.859,\n",
              " 'epoch': 3.0}"
            ]
          },
          "metadata": {},
          "execution_count": 16
        }
      ]
    },
    {
      "cell_type": "code",
      "source": [
        "from sklearn.metrics import classification_report\n",
        "\n",
        "preds_output = trainer.predict(split_dataset[\"test\"])\n",
        "preds = preds_output.predictions.argmax(-1)\n",
        "labels = preds_output.label_ids\n",
        "\n",
        "print(classification_report(labels, preds))"
      ],
      "metadata": {
        "id": "RFhreNU7dvGL",
        "outputId": "0aec728f-ed2c-4368-9d75-e3998b7183e9",
        "colab": {
          "base_uri": "https://localhost:8080/",
          "height": 454
        }
      },
      "execution_count": 17,
      "outputs": [
        {
          "output_type": "display_data",
          "data": {
            "text/plain": [
              "<IPython.core.display.HTML object>"
            ],
            "text/html": []
          },
          "metadata": {}
        },
        {
          "output_type": "stream",
          "name": "stderr",
          "text": [
            "/usr/local/lib/python3.11/dist-packages/sklearn/metrics/_classification.py:1565: UndefinedMetricWarning: Precision is ill-defined and being set to 0.0 in labels with no predicted samples. Use `zero_division` parameter to control this behavior.\n",
            "  _warn_prf(average, modifier, f\"{metric.capitalize()} is\", len(result))\n"
          ]
        },
        {
          "output_type": "stream",
          "name": "stdout",
          "text": [
            "              precision    recall  f1-score   support\n",
            "\n",
            "           0       0.00      0.00      0.00         2\n",
            "           1       0.00      0.00      0.00        17\n",
            "           2       0.00      0.00      0.00        19\n",
            "           3       0.39      0.98      0.55        62\n",
            "           4       0.00      0.00      0.00         4\n",
            "           5       0.91      0.93      0.92        81\n",
            "           7       0.00      0.00      0.00        13\n",
            "           8       0.00      0.00      0.00        41\n",
            "           9       0.00      0.00      0.00         1\n",
            "\n",
            "    accuracy                           0.57       240\n",
            "   macro avg       0.14      0.21      0.16       240\n",
            "weighted avg       0.41      0.57      0.45       240\n",
            "\n"
          ]
        },
        {
          "output_type": "stream",
          "name": "stderr",
          "text": [
            "/usr/local/lib/python3.11/dist-packages/sklearn/metrics/_classification.py:1565: UndefinedMetricWarning: Precision is ill-defined and being set to 0.0 in labels with no predicted samples. Use `zero_division` parameter to control this behavior.\n",
            "  _warn_prf(average, modifier, f\"{metric.capitalize()} is\", len(result))\n",
            "/usr/local/lib/python3.11/dist-packages/sklearn/metrics/_classification.py:1565: UndefinedMetricWarning: Precision is ill-defined and being set to 0.0 in labels with no predicted samples. Use `zero_division` parameter to control this behavior.\n",
            "  _warn_prf(average, modifier, f\"{metric.capitalize()} is\", len(result))\n",
            "/usr/local/lib/python3.11/dist-packages/sklearn/metrics/_classification.py:1565: UndefinedMetricWarning: Precision is ill-defined and being set to 0.0 in labels with no predicted samples. Use `zero_division` parameter to control this behavior.\n",
            "  _warn_prf(average, modifier, f\"{metric.capitalize()} is\", len(result))\n"
          ]
        }
      ]
    },
    {
      "cell_type": "code",
      "source": [
        "from sklearn.metrics import confusion_matrix\n",
        "import seaborn as sns\n",
        "import matplotlib.pyplot as plt\n",
        "\n",
        "cm = confusion_matrix(labels, preds)\n",
        "sns.heatmap(cm, annot=True, fmt='d', cmap='Blues')\n",
        "plt.xlabel(\"Predicted\")\n",
        "plt.ylabel(\"Actual\")\n",
        "plt.title(\"Confusion Matrix\")\n",
        "plt.show()"
      ],
      "metadata": {
        "id": "JDk6dsROdwtT",
        "outputId": "476bfd5b-39c8-4a4f-a1c8-0302e4ab94ea",
        "colab": {
          "base_uri": "https://localhost:8080/",
          "height": 472
        }
      },
      "execution_count": 18,
      "outputs": [
        {
          "output_type": "display_data",
          "data": {
            "text/plain": [
              "<Figure size 640x480 with 2 Axes>"
            ],
            "image/png": "[encoded data removed]"
          },
          "metadata": {}
        }
      ]
    }
  ]
}