{
  "nbformat": 4,
  "nbformat_minor": 0,
  "metadata": {
    "colab": {
      "machine_shape": "hm",
      "gpuType": "T4",
      "provenance": []
    },
    "accelerator": "GPU",
    "kaggle": {
      "accelerator": "gpu"
    },
    "language_info": {
      "name": "python"
    },
    "kernelspec": {
      "name": "python3",
      "display_name": "Python 3"
    }
  },
  "cells": [
    {
      "cell_type": "code",
      "source": [
        "!pip install -U transformers"
      ],
      "metadata": {
        "colab": {
          "base_uri": "https://localhost:8080/"
        },
        "id": "sm9ZGyWe2kz_",
        "outputId": "4bc4b507-0485-464e-e6d7-464c5ac28f65"
      },
      "execution_count": 1,
      "outputs": [
        {
          "output_type": "stream",
          "name": "stdout",
          "text": [
            "Requirement already satisfied: transformers in /usr/local/lib/python3.11/dist-packages (4.55.0)\n",
            "Collecting transformers\n",
            "  Downloading transformers-4.55.1-py3-none-any.whl.metadata (41 kB)\n",
            "\u001b[2K     \u001b[90m\u2501\u2501\u2501\u2501\u2501\u2501\u2501\u2501\u2501\u2501\u2501\u2501\u2501\u2501\u2501\u2501\u2501\u2501\u2501\u2501\u2501\u2501\u2501\u2501\u2501\u2501\u2501\u2501\u2501\u2501\u2501\u2501\u2501\u2501\u2501\u2501\u2501\u2501\u2501\u2501\u001b[0m \u001b[32m42.0/42.0 kB\u001b[0m \u001b[31m2.3 MB/s\u001b[0m eta \u001b[36m0:00:00\u001b[0m\n",
            "\u001b[?25hRequirement already satisfied: filelock in /usr/local/lib/python3.11/dist-packages (from transformers) (3.18.0)\n",
            "Requirement already satisfied: huggingface-hub<1.0,>=0.34.0 in /usr/local/lib/python3.11/dist-packages (from transformers) (0.34.3)\n",
            "Requirement already satisfied: numpy>=1.17 in /usr/local/lib/python3.11/dist-packages (from transformers) (2.0.2)\n",
            "Requirement already satisfied: packaging>=20.0 in /usr/local/lib/python3.11/dist-packages (from transformers) (25.0)\n",
            "Requirement already satisfied: pyyaml>=5.1 in /usr/local/lib/python3.11/dist-packages (from transformers) (6.0.2)\n",
            "Requirement already satisfied: regex!=2019.12.17 in /usr/local/lib/python3.11/dist-packages (from transformers) (2024.11.6)\n",
            "Requirement already satisfied: requests in /usr/local/lib/python3.11/dist-packages (from transformers) (2.32.3)\n",
            "Requirement already satisfied: tokenizers<0.22,>=0.21 in /usr/local/lib/python3.11/dist-packages (from transformers) (0.21.4)\n",
            "Requirement already satisfied: safetensors>=0.4.3 in /usr/local/lib/python3.11/dist-packages (from transformers) (0.6.1)\n",
            "Requirement already satisfied: tqdm>=4.27 in /usr/local/lib/python3.11/dist-packages (from transformers) (4.67.1)\n",
            "Requirement already satisfied: fsspec>=2023.5.0 in /usr/local/lib/python3.11/dist-packages (from huggingface-hub<1.0,>=0.34.0->transformers) (2025.3.0)\n",
            "Requirement already satisfied: typing-extensions>=3.7.4.3 in /usr/local/lib/python3.11/dist-packages (from huggingface-hub<1.0,>=0.34.0->transformers) (4.14.1)\n",
            "Requirement already satisfied: hf-xet<2.0.0,>=1.1.3 in /usr/local/lib/python3.11/dist-packages (from huggingface-hub<1.0,>=0.34.0->transformers) (1.1.7)\n",
            "Requirement already satisfied: charset-normalizer<4,>=2 in /usr/local/lib/python3.11/dist-packages (from requests->transformers) (3.4.2)\n",
            "Requirement already satisfied: idna<4,>=2.5 in /usr/local/lib/python3.11/dist-packages (from requests->transformers) (3.10)\n",
            "Requirement already satisfied: urllib3<3,>=1.21.1 in /usr/local/lib/python3.11/dist-packages (from requests->transformers) (2.5.0)\n",
            "Requirement already satisfied: certifi>=2017.4.17 in /usr/local/lib/python3.11/dist-packages (from requests->transformers) (2025.8.3)\n",
            "Downloading transformers-4.55.1-py3-none-any.whl (11.3 MB)\n",
            "\u001b[2K   \u001b[90m\u2501\u2501\u2501\u2501\u2501\u2501\u2501\u2501\u2501\u2501\u2501\u2501\u2501\u2501\u2501\u2501\u2501\u2501\u2501\u2501\u2501\u2501\u2501\u2501\u2501\u2501\u2501\u2501\u2501\u2501\u2501\u2501\u2501\u2501\u2501\u2501\u2501\u2501\u2501\u2501\u001b[0m \u001b[32m11.3/11.3 MB\u001b[0m \u001b[31m30.0 MB/s\u001b[0m eta \u001b[36m0:00:00\u001b[0m\n",
            "\u001b[?25hInstalling collected packages: transformers\n",
            "  Attempting uninstall: transformers\n",
            "    Found existing installation: transformers 4.55.0\n",
            "    Uninstalling transformers-4.55.0:\n",
            "      Successfully uninstalled transformers-4.55.0\n",
            "Successfully installed transformers-4.55.1\n"
          ]
        }
      ]
    },
    {
      "cell_type": "markdown",
      "source": [
        "## Local Inference on GPU\n",
        "Model page: https://huggingface.co/google/t5-efficient-tiny\n",
        "\n",
        "\u26a0\ufe0f If the generated code snippets do not work, please open an issue on either the [model repo](https://huggingface.co/google/t5-efficient-tiny)\n",
        "\t\t\tand/or on [huggingface.js](https://github.com/huggingface/huggingface.js/blob/main/packages/tasks/src/model-libraries-snippets.ts) \ud83d\ude4f"
      ],
      "metadata": {
        "id": "5mCN1Mn02k0C"
      }
    },
    {
      "cell_type": "code",
      "source": [
        "# Load model directly\n",
        "from transformers import AutoTokenizer, AutoModelForSeq2SeqLM\n",
        "\n",
        "tokenizer = AutoTokenizer.from_pretrained(\"google/t5-efficient-tiny\")\n",
        "model = AutoModelForSeq2SeqLM.from_pretrained(\"google/t5-efficient-tiny\")\n",
        "\n",
        "model.gradient_checkpointing_enable()\n",
        "model.config.use_cache = False"
      ],
      "metadata": {
        "colab": {
          "base_uri": "https://localhost:8080/",
          "height": 365,
          "referenced_widgets": [
            "ab61314f92f54d56b2112c39ad8d2c30",
            "677138ca4ccb4975995700eb8c507904",
            "36e23d53347042b7b4f89ab0b685553a",
            "8cdb0149b61e4eeab72c7206a1112ec6",
            "85ade7ce21bc438ebcde17d1d5e4d562",
            "68a16b24ad8346299763ccba53a6bfd9",
            "5910234be2d149cf8ec0e81e3088cb5f",
            "33cceff91b6f443db7009c0128f153cc",
            "274964473c9e441f8a4eaa386f18bd02",
            "6f4ab9b2eb3346bcb88556fa5432a379",
            "1b914d968eac4684a501e94829bffbef",
            "09138e998e4f4e04b6e6bc7e6540c932",
            "db4b592781be44098fd001bdc79182bc",
            "0b19bc534c4e4613a1a5f35f09e4fb73",
            "6072b2c66a734e75a6a06884e2f631ca",
            "80126f84a33c43a29407d35b2b10b890",
            "f8e3fad5302944a18e7246dcab44a588",
            "24fdc436fb17446f9a673fa10c50dd6d",
            "4c89827525814665ae219aa6096dd54e",
            "07531fa6f985492c84e5f21e187ed87b",
            "78b13dc7d7f64f828cc71f17d80eec72",
            "899b318c82de479c824a3d6b4653af10",
            "d3f631f8630947b4916a876031ff8710",
            "bad4984655bf4563aee98be9c3ea783b",
            "c499dcf4ee3a475ea14719bd09cf3e12",
            "0ee568b124d6497da97fbedb8deb7be0",
            "f26af9e8d2b241fc90a59b4e0c4049b4",
            "9152d7bd258d4c7a8f4503b5c984fb4f",
            "b6eb122bd5804cbda015b1dbc8f368c5",
            "0961a27be3a04389894b94c495a91895",
            "e9ab04efd700427fb5938f1e924e2cdf",
            "3ef8f6a46b45405399d59618c2125682",
            "657f32d1a939472595ef3b20ca23c3cc",
            "f7c72d29ff634bccba3558abb758bf8a",
            "fb793cd85eec423ba55d3bae4be06438",
            "23a2ac9c7b294eba95e595dd6c89c00d",
            "a9beed3c3d8a4bfaabc917e351ef67f4",
            "600ab09cf46d4f13851c5ac4c93b949e",
            "9793da99f398450f8339174d26968da2",
            "29d59650e3554caa933f1aafbe671d2a",
            "a7b45d664bcc4620aaa2062334d24932",
            "d8251526d34c49a4ac3b0885fdedc7b3",
            "e52ea2a81be6467dbf39742d5f38133c",
            "30cb654075644c3bac23c9eeda22fedb",
            "d3a8a3d4a2c0473cb15415b404e3a7a6",
            "d7984369312642a6ab754971155ec9bc",
            "dc0e04a7d44d4521a0dce6673809855b",
            "b7cbb4c95ed340819ded1e0b9a5d33cf",
            "126fc53c2bc04afe83a91cbde517c231",
            "aeca8ae29c1f483ca96a105e60faeb1b",
            "05c643af1091407596a28e738590ce15",
            "515e33b8dfc940b2aff29c79295f403b",
            "169810682fd84649b317fac276a5073b",
            "4dc605544d564c128d73040a53a9c753",
            "b722a74b1c6f4d4d89e6594f531d570d",
            "d6872e688cc64ae9a90f8040addab7ef",
            "92478314f14944e89fbcb83b5a7efa53",
            "18337c375a664916bc447d3576659a3f",
            "d42351a2e6bc498f98bd9d00c7dd827d",
            "1bbea093bb624639b3b3357da98dbd42",
            "504956ed80d74171802f9e835832aafe",
            "2a118b169e0f40f0b0ffcba3857ceec0",
            "5e709db726c54d5d912df9451b3c8c5b",
            "7594e128226f45da84147b2c91540d37",
            "3c8cc3db3e764fcb8dbf469efaf6b635",
            "4e90839672bb4af2a5d1c542d7fce3a6",
            "1f04617e02f2426198912c9aa11c0bd2",
            "95643d415e2a4345a09fccdcbebdf0ab",
            "a068c2ee924949fe9ceb89838becebb3",
            "fdc83ed263b542328624b55cc06512c2",
            "19a3e44c0db74cedac3ca9a687be3319",
            "2fca825cdf814648848d5ad2a1179d86",
            "471fb4ca87994799b0fc20a71341d7e0",
            "d07e78e5b2a2426f8f35cf739a624841",
            "24f01ce944ea4006aa0060bfe87e404a",
            "a2c6e572a6454e329960b057789bd178",
            "d17a543d8ce740beaeb98dcb6959f5c9"
          ]
        },
        "id": "uiJ0D-v62k0D",
        "outputId": "658df6a5-fd61-4662-db21-62f21c953ae6"
      },
      "execution_count": 2,
      "outputs": [
        {
          "output_type": "stream",
          "name": "stderr",
          "text": [
            "/usr/local/lib/python3.11/dist-packages/huggingface_hub/utils/_auth.py:94: UserWarning: \n",
            "The secret `HF_TOKEN` does not exist in your Colab secrets.\n",
            "To authenticate with the Hugging Face Hub, create a token in your settings tab (https://huggingface.co/settings/tokens), set it as secret in your Google Colab and restart your session.\n",
            "You will be able to reuse this secret in all of your notebooks.\n",
            "Please note that authentication is recommended but still optional to access public models or datasets.\n",
            "  warnings.warn(\n"
          ]
        },
        {
          "output_type": "display_data",
          "data": {
            "text/plain": [
              "tokenizer_config.json: 0.00B [00:00, ?B/s]"
            ],
            "application/vnd.jupyter.widget-view+json": {
              "version_major": 2,
              "version_minor": 0,
              "model_id": "ab61314f92f54d56b2112c39ad8d2c30"
            }
          },
          "metadata": {}
        },
        {
          "output_type": "display_data",
          "data": {
            "text/plain": [
              "spiece.model:   0%|          | 0.00/792k [00:00<?, ?B/s]"
            ],
            "application/vnd.jupyter.widget-view+json": {
              "version_major": 2,
              "version_minor": 0,
              "model_id": "09138e998e4f4e04b6e6bc7e6540c932"
            }
          },
          "metadata": {}
        },
        {
          "output_type": "display_data",
          "data": {
            "text/plain": [
              "tokenizer.json: 0.00B [00:00, ?B/s]"
            ],
            "application/vnd.jupyter.widget-view+json": {
              "version_major": 2,
              "version_minor": 0,
              "model_id": "d3f631f8630947b4916a876031ff8710"
            }
          },
          "metadata": {}
        },
        {
          "output_type": "display_data",
          "data": {
            "text/plain": [
              "special_tokens_map.json: 0.00B [00:00, ?B/s]"
            ],
            "application/vnd.jupyter.widget-view+json": {
              "version_major": 2,
              "version_minor": 0,
              "model_id": "f7c72d29ff634bccba3558abb758bf8a"
            }
          },
          "metadata": {}
        },
        {
          "output_type": "display_data",
          "data": {
            "text/plain": [
              "config.json:   0%|          | 0.00/628 [00:00<?, ?B/s]"
            ],
            "application/vnd.jupyter.widget-view+json": {
              "version_major": 2,
              "version_minor": 0,
              "model_id": "d3a8a3d4a2c0473cb15415b404e3a7a6"
            }
          },
          "metadata": {}
        },
        {
          "output_type": "display_data",
          "data": {
            "text/plain": [
              "pytorch_model.bin:   0%|          | 0.00/62.3M [00:00<?, ?B/s]"
            ],
            "application/vnd.jupyter.widget-view+json": {
              "version_major": 2,
              "version_minor": 0,
              "model_id": "d6872e688cc64ae9a90f8040addab7ef"
            }
          },
          "metadata": {}
        },
        {
          "output_type": "display_data",
          "data": {
            "text/plain": [
              "generation_config.json:   0%|          | 0.00/147 [00:00<?, ?B/s]"
            ],
            "application/vnd.jupyter.widget-view+json": {
              "version_major": 2,
              "version_minor": 0,
              "model_id": "1f04617e02f2426198912c9aa11c0bd2"
            }
          },
          "metadata": {}
        }
      ]
    },
    {
      "cell_type": "code",
      "source": [
        "from datasets import load_dataset\n",
        "\n",
        "ds = load_dataset(\"abisee/cnn_dailymail\", \"3.0.0\")"
      ],
      "metadata": {
        "colab": {
          "base_uri": "https://localhost:8080/",
          "height": 337,
          "referenced_widgets": [
            "1e8ae42b99534038b684a4e1134daa46",
            "aaffc59ba4d143039e0827727015dca2",
            "0b1b3ebd433e45c88849aa5dc35f4b3b",
            "df3fd3a2b27e421fa4411fa99d04b1db",
            "563d580d31944c5babfdd1837a8865a6",
            "5d699deb3fad4398b05aa51e67267651",
            "91f6b6f2812f4752bccfb7bb03f0d159",
            "656197cb3a3a4670b771547b2c5a12c7",
            "dcc26fe099a9444ebec6221029f13f1e",
            "93f88631f9884a43ae42068c2fe32ec4",
            "25dcc96f0d4d45059fc8e5c499cc9f6a",
            "6fb37f8d3c6941ab8d7c1642421b6ad3",
            "ca6cb7c4a9b6453c8013c0b1acd7eb2c",
            "1bfb2d9d927640ef8686ee05e22c7ca8",
            "6f6b6e165fce4319821efdd5e2ef27f8",
            "419ce038dffe4ffd8da54b4ac6b553f9",
            "e5bdc9faeaf240fb878799cd3a50962b",
            "143b0acb8be649ae86700cf4ca6c1dd3",
            "b0adc2a04913439da2a5cda6af636570",
            "835d154645d74d03bfa6b8e03d7c4086",
            "0a282dcdef5840f79359ded26143cb98",
            "ad3ca6542b0b479fb9a4e5f986bbf43a",
            "e784a213a2e74abf8409145c9fdbf5e2",
            "5e24b77c8a764c84b2519129d0e14ee8",
            "1d9895b0f99b4407a577422821d5c455",
            "e4b55d4672f34d3695ec7492177fa3cc",
            "a512418575d54ba6b1c56c783d92cf16",
            "7ddbc81d6d6a4d2fb21e9a3f46ce4851",
            "eeeb5573ebd24655a6436a0c4a94622a",
            "66dc8fddf5974ee49c69fc4082d7d82d",
            "bc4014cf2f794a04a2cace240dbba83d",
            "e092ca2a47a740ad964a4d8330715050",
            "bf532754faa54ca690e93ee3594ec905",
            "98d9aaf68b2240118252ed63544b56b0",
            "c1be4833ee17402c825b8606afb132b7",
            "b09ca71fccfb4b4283ac36d4dc05cf62",
            "89ac68a4db3e49639e236843171d3e15",
            "4937d68473b44c0fa1d490cba64ba5f3",
            "4d4c9d0ce19e4a0496fa625dc92907c5",
            "04d656238070424e9e77a3c134286899",
            "3ac76655612346be9236a50b68abff8a",
            "6224be4aa7e441c383afe4e48262b9c3",
            "6ffcec6a23df47cea89e33f7aab588b3",
            "dab0b1bcfe254ea2ac1ace66c5473106",
            "b1d5945581e648deb3bf47d53b9cce48",
            "8bd0b7915bde4b29a0ea5ffe3b6000d1",
            "cbc05f781c7f4d59ae3f890d6ea2cfb5",
            "df4f01a6ef3f40c882afaa63ed3441b7",
            "1b479f006ce54f42bc67ac19a0607fae",
            "ca8af569cd4e4744ac0ed03e80411a25",
            "f0960ad3e92240f39917746f15927995",
            "f04040100bd140c3b04bb20a951c88a1",
            "79916b52631d4a9d973ab2110217874a",
            "1f0ef391f00c46e9b47176a0ed0c6ed7",
            "c5a9ef1079d1485c82ec70e3fc0f763e",
            "4739f40699bc454a9eaeba9089d41785",
            "2ec94a849b234b65acbeb9bbfb7d6222",
            "7a53b69a33b6425587fb5fcbfbcedcae",
            "a2c5db741626456589c0e5735437fc50",
            "b10f3c53ac5444fcb8d28d86dc6c3f78",
            "f27876330af04f049f02cdf4f2a3f0df",
            "99968397bd374b04933d46ee2c8f679d",
            "874dda594f00461a99e79031da5e12b7",
            "ee15eac77167470caf0d37501b67ee13",
            "3d63f6e2199a49be8c020487d61ceef9",
            "6704147962e54ef0a04b0adab85a7508",
            "291c19f315e44a13894592dad018e2b6",
            "1a14b090e59e456595c9284ae75ee539",
            "65036e0ef82b4edab638d9e3cc60d057",
            "d7b002a82bf348ad8df8c78a7c36a865",
            "9b4e205078ba4bcfae4a041a599254ce",
            "190aab931e6249979fc22ed0ffc7a073",
            "de11058533a9470787dc993580c41691",
            "91de981cc8c04b0f9eefce37b88aab57",
            "8d406212a5ae45749fe4838b0aabd273",
            "51ef185493e1425599718eaca92755f9",
            "4dbb24622c1f4853b8329c6f51c8c3bc",
            "50154a559f414d11a121582c33f25e25",
            "df2dac86e63744c3b36721900c9b8495",
            "6bd7e6838ca244d6b04e000d05767f57",
            "47814e00de1e43359f440e2b10e7c16e",
            "c30af361723843e0b59deeece809af38",
            "9f92f9da3f2f4ad7b11cfc65b0462c13",
            "a6e6349d47504762815e6266ad52a0ed",
            "d93d3850ad6448e0b4e6a0db467ef1f4",
            "71f9ce380ded40688fbea7e5ef718523",
            "6ad7046f55f14c05bdb5601188d5a6ed",
            "251dc6935e7343c0afceb33f55f4a81e",
            "4697bee5eefe49abac1a76813ab00c8a",
            "8b8b1a39998649f9a35215a51d1cd911",
            "d9767d4c9b1947ce946ee856ca353574",
            "624d9cc50f554523b06dde3eb43f2db6",
            "d9e3f1edbf8247279cc727f6ea63325d",
            "4af8d19326dd4a348f2e5af3b34c5192",
            "897d50017caa484aa71eaa82317a2c2c",
            "55e502d79d8141b485383f15d2c02fec",
            "08d82416153a4090ac4fe587bd4f6e85",
            "05da03e9540247b4888bd33706cab84e",
            "6b40914cdb9f4c09b1fb621b0202d33e",
            "e60d183f1338418ea2757892d0f9641c",
            "3fbd4a05af74472f91568bdf84f4a887",
            "b80fd495eb3b403b849dfdfc0cf5c3e9",
            "0692fe5f603e4d88b93e2d5114c57ced",
            "9a7baed8edb441f0b3c79422e1ad13df",
            "917cdd7132164f14bed26d53f6a1145d",
            "f82913f848cf447e895ad8232dbea04e",
            "77f2fe4843644b9e8d7ef8ad5cfbcd56",
            "1a33dfce42a147a9a86e0532123918e4",
            "30bc76a8f7764adbabd9962d43c653bc",
            "5b2fccc869c64ced81e903941ad62765"
          ]
        },
        "id": "pqKCdUGv8gts",
        "outputId": "c982802f-b150-4f1e-be8b-4ee1af172b3b"
      },
      "execution_count": 3,
      "outputs": [
        {
          "output_type": "display_data",
          "data": {
            "text/plain": [
              "README.md: 0.00B [00:00, ?B/s]"
            ],
            "application/vnd.jupyter.widget-view+json": {
              "version_major": 2,
              "version_minor": 0,
              "model_id": "1e8ae42b99534038b684a4e1134daa46"
            }
          },
          "metadata": {}
        },
        {
          "output_type": "display_data",
          "data": {
            "text/plain": [
              "model.safetensors:   0%|          | 0.00/62.3M [00:00<?, ?B/s]"
            ],
            "application/vnd.jupyter.widget-view+json": {
              "version_major": 2,
              "version_minor": 0,
              "model_id": "6fb37f8d3c6941ab8d7c1642421b6ad3"
            }
          },
          "metadata": {}
        },
        {
          "output_type": "display_data",
          "data": {
            "text/plain": [
              "train-00000-of-00003.parquet:   0%|          | 0.00/257M [00:00<?, ?B/s]"
            ],
            "application/vnd.jupyter.widget-view+json": {
              "version_major": 2,
              "version_minor": 0,
              "model_id": "e784a213a2e74abf8409145c9fdbf5e2"
            }
          },
          "metadata": {}
        },
        {
          "output_type": "display_data",
          "data": {
            "text/plain": [
              "train-00001-of-00003.parquet:   0%|          | 0.00/257M [00:00<?, ?B/s]"
            ],
            "application/vnd.jupyter.widget-view+json": {
              "version_major": 2,
              "version_minor": 0,
              "model_id": "98d9aaf68b2240118252ed63544b56b0"
            }
          },
          "metadata": {}
        },
        {
          "output_type": "display_data",
          "data": {
            "text/plain": [
              "train-00002-of-00003.parquet:   0%|          | 0.00/259M [00:00<?, ?B/s]"
            ],
            "application/vnd.jupyter.widget-view+json": {
              "version_major": 2,
              "version_minor": 0,
              "model_id": "b1d5945581e648deb3bf47d53b9cce48"
            }
          },
          "metadata": {}
        },
        {
          "output_type": "display_data",
          "data": {
            "text/plain": [
              "validation-00000-of-00001.parquet:   0%|          | 0.00/34.7M [00:00<?, ?B/s]"
            ],
            "application/vnd.jupyter.widget-view+json": {
              "version_major": 2,
              "version_minor": 0,
              "model_id": "4739f40699bc454a9eaeba9089d41785"
            }
          },
          "metadata": {}
        },
        {
          "output_type": "display_data",
          "data": {
            "text/plain": [
              "test-00000-of-00001.parquet:   0%|          | 0.00/30.0M [00:00<?, ?B/s]"
            ],
            "application/vnd.jupyter.widget-view+json": {
              "version_major": 2,
              "version_minor": 0,
              "model_id": "291c19f315e44a13894592dad018e2b6"
            }
          },
          "metadata": {}
        },
        {
          "output_type": "display_data",
          "data": {
            "text/plain": [
              "Generating train split:   0%|          | 0/287113 [00:00<?, ? examples/s]"
            ],
            "application/vnd.jupyter.widget-view+json": {
              "version_major": 2,
              "version_minor": 0,
              "model_id": "50154a559f414d11a121582c33f25e25"
            }
          },
          "metadata": {}
        },
        {
          "output_type": "display_data",
          "data": {
            "text/plain": [
              "Generating validation split:   0%|          | 0/13368 [00:00<?, ? examples/s]"
            ],
            "application/vnd.jupyter.widget-view+json": {
              "version_major": 2,
              "version_minor": 0,
              "model_id": "4697bee5eefe49abac1a76813ab00c8a"
            }
          },
          "metadata": {}
        },
        {
          "output_type": "display_data",
          "data": {
            "text/plain": [
              "Generating test split:   0%|          | 0/11490 [00:00<?, ? examples/s]"
            ],
            "application/vnd.jupyter.widget-view+json": {
              "version_major": 2,
              "version_minor": 0,
              "model_id": "e60d183f1338418ea2757892d0f9641c"
            }
          },
          "metadata": {}
        }
      ]
    },
    {
      "cell_type": "code",
      "source": [
        "prefix = \"summarize: \"\n",
        "max_source_len = 384\n",
        "max_target_len = 128\n",
        "\n",
        "def preprocess(batch):\n",
        "    inputs = [prefix + x for x in batch[\"article\"]]\n",
        "    model_inputs = tokenizer(inputs, max_length=max_source_len, truncation=True)\n",
        "    with tokenizer.as_target_tokenizer():\n",
        "        labels = tokenizer(batch[\"highlights\"], max_length=max_target_len, truncation=True)\n",
        "    model_inputs[\"labels\"] = labels[\"input_ids\"]\n",
        "    return model_inputs\n",
        "\n",
        "cols = ds[\"train\"].column_names\n",
        "tokenized = ds.map(preprocess, batched=True, remove_columns=cols)\n",
        "\n",
        "train_ds = tokenized[\"train\"].select(range(5000))\n",
        "eval_ds  = tokenized[\"validation\"].select(range(50))\n"
      ],
      "metadata": {
        "colab": {
          "base_uri": "https://localhost:8080/",
          "height": 113,
          "referenced_widgets": [
            "7d5aa7ff3c2345b89da1b67686e9c1cc",
            "8207da96ebb1437ba45f3e63221d8da9",
            "92e26f026f14479d87a1c82abe3f27c6",
            "3d4583a10cb849f29f097f8795ef5c77",
            "873e584415a14804be066fb92564b897",
            "2800c3be6c0d4d39a422fd7de764b029",
            "d45d07fcd8d845369ebe9667764cb421",
            "1c373e40a63944509d1e30e64844294b",
            "6a60516736d446cbb0c72a0d1bdbfaf8",
            "a025b847677c46ee818d1267a94db8d0",
            "059f4e3abd844b139571bd73ff563770",
            "ccbc8a3bb729424293490e0dd47b7df9",
            "692d566031254c35ad42d83a346f9b78",
            "0a7bdd8c2f5b4408a9028092a9e4a4f5",
            "8c0f232cd74d4d51a00eb4d3cecaaba1",
            "af5ddab704ad4716acd18390408fcb05",
            "75c93216061f48bc8ca280d61ab56c43",
            "c6eb9c3a96ad4d09b1e3a1df411820bd",
            "4783c92ea1ec427daa5d96653a4ad947",
            "ca3271e1c1864471b8cfaf58ec59480a",
            "278c3e7afa33474093a758fbd77bb5ec",
            "adb296431c974b30bfbab6d8cd54c2f8",
            "5093202c77fc4733b44f86915642ad1f",
            "232de27c05ec435887c795c55210c4b6",
            "07bddf1ab43c4145b00ae040a1af63c8",
            "15f2a400b530472a99b4263677439826",
            "4fb53e3562ed4111b98ddecb5109974c",
            "903e1bca5c4d4cc2bc3610d58456026d",
            "2e6fc977d9934f88b0f3d3fc85866b64",
            "2edfdf1949e84d3bab6adfe6d4586b41",
            "8c781345597c44fd91eed95d588ee241",
            "98d1a0091a0d4fa0ba2ced56f5f1d61f",
            "3dae001af0f64d2e807ef25cefe99486"
          ]
        },
        "id": "Pnr07Ueu8_c8",
        "outputId": "2fcdd37f-ea6b-4263-eca2-40a831f17f11"
      },
      "execution_count": 5,
      "outputs": [
        {
          "output_type": "display_data",
          "data": {
            "text/plain": [
              "Map:   0%|          | 0/287113 [00:00<?, ? examples/s]"
            ],
            "application/vnd.jupyter.widget-view+json": {
              "version_major": 2,
              "version_minor": 0,
              "model_id": "7d5aa7ff3c2345b89da1b67686e9c1cc"
            }
          },
          "metadata": {}
        },
        {
          "output_type": "display_data",
          "data": {
            "text/plain": [
              "Map:   0%|          | 0/13368 [00:00<?, ? examples/s]"
            ],
            "application/vnd.jupyter.widget-view+json": {
              "version_major": 2,
              "version_minor": 0,
              "model_id": "ccbc8a3bb729424293490e0dd47b7df9"
            }
          },
          "metadata": {}
        },
        {
          "output_type": "display_data",
          "data": {
            "text/plain": [
              "Map:   0%|          | 0/11490 [00:00<?, ? examples/s]"
            ],
            "application/vnd.jupyter.widget-view+json": {
              "version_major": 2,
              "version_minor": 0,
              "model_id": "5093202c77fc4733b44f86915642ad1f"
            }
          },
          "metadata": {}
        }
      ]
    },
    {
      "cell_type": "code",
      "source": [
        "!pip install -q evaluate\n",
        "!pip install rouge_score"
      ],
      "metadata": {
        "colab": {
          "base_uri": "https://localhost:8080/"
        },
        "id": "kWvs0SMHHF9m",
        "outputId": "50fcee26-6ea5-4029-c1c4-323ce9d2ef12"
      },
      "execution_count": 6,
      "outputs": [
        {
          "output_type": "stream",
          "name": "stdout",
          "text": [
            "\u001b[?25l   \u001b[90m\u2501\u2501\u2501\u2501\u2501\u2501\u2501\u2501\u2501\u2501\u2501\u2501\u2501\u2501\u2501\u2501\u2501\u2501\u2501\u2501\u2501\u2501\u2501\u2501\u2501\u2501\u2501\u2501\u2501\u2501\u2501\u2501\u2501\u2501\u2501\u2501\u2501\u2501\u2501\u2501\u001b[0m \u001b[32m0.0/84.1 kB\u001b[0m \u001b[31m?\u001b[0m eta \u001b[36m-:--:--\u001b[0m\r\u001b[2K   \u001b[90m\u2501\u2501\u2501\u2501\u2501\u2501\u2501\u2501\u2501\u2501\u2501\u2501\u2501\u2501\u2501\u2501\u2501\u2501\u2501\u2501\u2501\u2501\u2501\u2501\u2501\u2501\u2501\u2501\u2501\u2501\u2501\u2501\u2501\u2501\u2501\u2501\u2501\u2501\u2501\u2501\u001b[0m \u001b[32m84.1/84.1 kB\u001b[0m \u001b[31m4.7 MB/s\u001b[0m eta \u001b[36m0:00:00\u001b[0m\n",
            "\u001b[?25hCollecting rouge_score\n",
            "  Downloading rouge_score-0.1.2.tar.gz (17 kB)\n",
            "  Preparing metadata (setup.py) ... \u001b[?25l\u001b[?25hdone\n",
            "Requirement already satisfied: absl-py in /usr/local/lib/python3.11/dist-packages (from rouge_score) (1.4.0)\n",
            "Requirement already satisfied: nltk in /usr/local/lib/python3.11/dist-packages (from rouge_score) (3.9.1)\n",
            "Requirement already satisfied: numpy in /usr/local/lib/python3.11/dist-packages (from rouge_score) (2.0.2)\n",
            "Requirement already satisfied: six>=1.14.0 in /usr/local/lib/python3.11/dist-packages (from rouge_score) (1.17.0)\n",
            "Requirement already satisfied: click in /usr/local/lib/python3.11/dist-packages (from nltk->rouge_score) (8.2.1)\n",
            "Requirement already satisfied: joblib in /usr/local/lib/python3.11/dist-packages (from nltk->rouge_score) (1.5.1)\n",
            "Requirement already satisfied: regex>=2021.8.3 in /usr/local/lib/python3.11/dist-packages (from nltk->rouge_score) (2024.11.6)\n",
            "Requirement already satisfied: tqdm in /usr/local/lib/python3.11/dist-packages (from nltk->rouge_score) (4.67.1)\n",
            "Building wheels for collected packages: rouge_score\n",
            "  Building wheel for rouge_score (setup.py) ... \u001b[?25l\u001b[?25hdone\n",
            "  Created wheel for rouge_score: filename=rouge_score-0.1.2-py3-none-any.whl size=24934 sha256=e1f3e21d323e0458fb616c9e8023cdb978a7c7a37c67b2d54d651845147ac4ff\n",
            "  Stored in directory: /root/.cache/pip/wheels/1e/19/43/8a442dc83660ca25e163e1bd1f89919284ab0d0c1475475148\n",
            "Successfully built rouge_score\n",
            "Installing collected packages: rouge_score\n",
            "Successfully installed rouge_score-0.1.2\n"
          ]
        }
      ]
    },
    {
      "cell_type": "code",
      "source": [
        "import numpy as np, evaluate\n",
        "rouge = evaluate.load(\"rouge\")\n",
        "\n",
        "def _safe_ids(arr, pad_id, vocab_size=None):\n",
        "    arr = np.array(arr)\n",
        "\n",
        "    if arr.ndim == 3:\n",
        "        arr = arr[:, 0, :]\n",
        "\n",
        "    if arr.dtype.kind != \"i\":\n",
        "        arr = arr.astype(\"int64\", copy=False)\n",
        "\n",
        "    arr[arr < 0] = pad_id\n",
        "    if vocab_size:\n",
        "        arr = np.where(arr >= vocab_size, pad_id, arr)\n",
        "    return arr\n",
        "\n",
        "def compute_metrics(eval_pred):\n",
        "    preds, labels = eval_pred\n",
        "    if isinstance(preds, tuple):\n",
        "        preds = preds[0]\n",
        "    pad_id = tokenizer.pad_token_id or 0\n",
        "    vocab_size = getattr(tokenizer, \"vocab_size\", None)\n",
        "\n",
        "    preds  = _safe_ids(preds,  pad_id, vocab_size)\n",
        "    labels = _safe_ids(np.where(labels != -100, labels, pad_id), pad_id, vocab_size)\n",
        "\n",
        "\n",
        "    decoded_preds  = tokenizer.batch_decode(preds.tolist(),  skip_special_tokens=True)\n",
        "    decoded_labels = tokenizer.batch_decode(labels.tolist(), skip_special_tokens=True)\n",
        "\n",
        "    decoded_preds  = [p.strip() for p in decoded_preds]\n",
        "    decoded_labels = [l.strip() for l in decoded_labels]\n",
        "    scores = rouge.compute(predictions=decoded_preds, references=decoded_labels, use_stemmer=True)\n",
        "    return {k: round(v * 100, 4) for k, v in scores.items()}\n"
      ],
      "metadata": {
        "colab": {
          "base_uri": "https://localhost:8080/",
          "height": 49,
          "referenced_widgets": [
            "11459ff8d8fd47f2a510968864245dde",
            "179c9c7d87af486fb7203a100c5b7ce2",
            "af72c3625979436eb11539f5378f89b4",
            "afabccc6fba340b98ae766fedce4600e",
            "eb24b2cf00b6495f8ac7ad048bf7b715",
            "4548e943e9a6469fa8ec15fb3cc84554",
            "9949292e21184e2fb69e8f6b88da86e2",
            "6d42c6fcaf3d43d48fae674bdd3c04a1",
            "90e6ef883c8444368599fcb5b9983937",
            "c2dd6932a063412b80035d45e3590a8f",
            "460b68b448114391b27be75815250447"
          ]
        },
        "id": "vRMfRbgrG3gF",
        "outputId": "6be25934-5936-41f5-a8a7-7e01d0a5e0ff"
      },
      "execution_count": 7,
      "outputs": [
        {
          "output_type": "display_data",
          "data": {
            "text/plain": [
              "Downloading builder script: 0.00B [00:00, ?B/s]"
            ],
            "application/vnd.jupyter.widget-view+json": {
              "version_major": 2,
              "version_minor": 0,
              "model_id": "11459ff8d8fd47f2a510968864245dde"
            }
          },
          "metadata": {}
        }
      ]
    },
    {
      "cell_type": "code",
      "source": [
        "from transformers import DataCollatorForSeq2Seq\n",
        "collator = DataCollatorForSeq2Seq(tokenizer, model=model)"
      ],
      "metadata": {
        "id": "Yr54nYtiLur2"
      },
      "execution_count": 10,
      "outputs": []
    },
    {
      "cell_type": "code",
      "source": [
        "from transformers import (\n",
        "    AutoTokenizer, AutoModelForSeq2SeqLM,\n",
        "    DataCollatorForSeq2Seq, Seq2SeqTrainer, Seq2SeqTrainingArguments\n",
        ")\n",
        "\n",
        "training_args = Seq2SeqTrainingArguments(\n",
        "    output_dir=\"./t5efftiny-cnndm-full\",\n",
        "    num_train_epochs=2,\n",
        "    per_device_train_batch_size=4,\n",
        "    per_device_eval_batch_size=4,\n",
        "    logging_steps=100,\n",
        "    save_steps=500,\n",
        "    save_total_limit=2,\n",
        "    remove_unused_columns=True,\n",
        "    report_to=\"none\",\n",
        "    fp16=False,\n",
        "    predict_with_generate=True,\n",
        "    generation_max_length=128,\n",
        "    generation_num_beams=4,\n",
        ")"
      ],
      "metadata": {
        "id": "arshvGM1Jr7D"
      },
      "execution_count": 9,
      "outputs": []
    },
    {
      "cell_type": "code",
      "source": [
        "trainer = Seq2SeqTrainer(\n",
        "    model=model,\n",
        "    args=training_args,\n",
        "    train_dataset=train_ds,\n",
        "    eval_dataset=eval_ds,\n",
        "    tokenizer=tokenizer,\n",
        "    data_collator=collator,\n",
        "    compute_metrics=compute_metrics,\n",
        ")\n",
        "\n",
        "trainer.train()"
      ],
      "metadata": {
        "colab": {
          "base_uri": "https://localhost:8080/",
          "height": 949
        },
        "id": "4PMu_uQiJtuY",
        "outputId": "3a44e219-ea54-4b0c-ad8b-d4c8265857d0"
      },
      "execution_count": 12,
      "outputs": [
        {
          "output_type": "stream",
          "name": "stderr",
          "text": [
            "/tmp/ipython-input-341489654.py:1: FutureWarning: `tokenizer` is deprecated and will be removed in version 5.0.0 for `Seq2SeqTrainer.__init__`. Use `processing_class` instead.\n",
            "  trainer = Seq2SeqTrainer(\n"
          ]
        },
        {
          "output_type": "display_data",
          "data": {
            "text/plain": [
              "<IPython.core.display.HTML object>"
            ],
            "text/html": [
              "\n",
              "    <div>\n",
              "      \n",
              "      <progress value='2500' max='2500' style='width:300px; height:20px; vertical-align: middle;'></progress>\n",
              "      [2500/2500 02:55, Epoch 2/2]\n",
              "    </div>\n",
              "    <table border=\"1\" class=\"dataframe\">\n",
              "  <thead>\n",
              " <tr style=\"text-align: left;\">\n",
              "      <th>Step</th>\n",
              "      <th>Training Loss</th>\n",
              "    </tr>\n",
              "  </thead>\n",
              "  <tbody>\n",
              "    <tr>\n",
              "      <td>100</td>\n",
              "      <td>6.777100</td>\n",
              "    </tr>\n",
              "    <tr>\n",
              "      <td>200</td>\n",
              "      <td>5.045900</td>\n",
              "    </tr>\n",
              "    <tr>\n",
              "      <td>300</td>\n",
              "      <td>4.821500</td>\n",
              "    </tr>\n",
              "    <tr>\n",
              "      <td>400</td>\n",
              "      <td>4.726200</td>\n",
              "    </tr>\n",
              "    <tr>\n",
              "      <td>500</td>\n",
              "      <td>4.540500</td>\n",
              "    </tr>\n",
              "    <tr>\n",
              "      <td>600</td>\n",
              "      <td>4.521800</td>\n",
              "    </tr>\n",
              "    <tr>\n",
              "      <td>700</td>\n",
              "      <td>4.494400</td>\n",
              "    </tr>\n",
              "    <tr>\n",
              "      <td>800</td>\n",
              "      <td>4.391500</td>\n",
              "    </tr>\n",
              "    <tr>\n",
              "      <td>900</td>\n",
              "      <td>4.373100</td>\n",
              "    </tr>\n",
              "    <tr>\n",
              "      <td>1000</td>\n",
              "      <td>4.329000</td>\n",
              "    </tr>\n",
              "    <tr>\n",
              "      <td>1100</td>\n",
              "      <td>4.290400</td>\n",
              "    </tr>\n",
              "    <tr>\n",
              "      <td>1200</td>\n",
              "      <td>4.295000</td>\n",
              "    </tr>\n",
              "    <tr>\n",
              "      <td>1300</td>\n",
              "      <td>4.303200</td>\n",
              "    </tr>\n",
              "    <tr>\n",
              "      <td>1400</td>\n",
              "      <td>4.213800</td>\n",
              "    </tr>\n",
              "    <tr>\n",
              "      <td>1500</td>\n",
              "      <td>4.223000</td>\n",
              "    </tr>\n",
              "    <tr>\n",
              "      <td>1600</td>\n",
              "      <td>4.227900</td>\n",
              "    </tr>\n",
              "    <tr>\n",
              "      <td>1700</td>\n",
              "      <td>4.210400</td>\n",
              "    </tr>\n",
              "    <tr>\n",
              "      <td>1800</td>\n",
              "      <td>4.199200</td>\n",
              "    </tr>\n",
              "    <tr>\n",
              "      <td>1900</td>\n",
              "      <td>4.141600</td>\n",
              "    </tr>\n",
              "    <tr>\n",
              "      <td>2000</td>\n",
              "      <td>4.205100</td>\n",
              "    </tr>\n",
              "    <tr>\n",
              "      <td>2100</td>\n",
              "      <td>4.168800</td>\n",
              "    </tr>\n",
              "    <tr>\n",
              "      <td>2200</td>\n",
              "      <td>4.128600</td>\n",
              "    </tr>\n",
              "    <tr>\n",
              "      <td>2300</td>\n",
              "      <td>4.095500</td>\n",
              "    </tr>\n",
              "    <tr>\n",
              "      <td>2400</td>\n",
              "      <td>4.174100</td>\n",
              "    </tr>\n",
              "    <tr>\n",
              "      <td>2500</td>\n",
              "      <td>4.117700</td>\n",
              "    </tr>\n",
              "  </tbody>\n",
              "</table><p>"
            ]
          },
          "metadata": {}
        },
        {
          "output_type": "execute_result",
          "data": {
            "text/plain": [
              "TrainOutput(global_step=2500, training_loss=4.440614526367187, metrics={'train_runtime': 177.0926, 'train_samples_per_second': 56.468, 'train_steps_per_second': 14.117, 'total_flos': 169244098560000.0, 'train_loss': 4.440614526367187, 'epoch': 2.0})"
            ]
          },
          "metadata": {},
          "execution_count": 12
        }
      ]
    },
    {
      "cell_type": "code",
      "source": [
        "trainer.evaluate()"
      ],
      "metadata": {
        "colab": {
          "base_uri": "https://localhost:8080/",
          "height": 193
        },
        "id": "yZIC2GkqM_cx",
        "outputId": "111d7073-f06f-4b1a-8fb1-95732277bc3d"
      },
      "execution_count": 13,
      "outputs": [
        {
          "output_type": "display_data",
          "data": {
            "text/plain": [
              "<IPython.core.display.HTML object>"
            ],
            "text/html": [
              "\n",
              "    <div>\n",
              "      \n",
              "      <progress value='13' max='13' style='width:300px; height:20px; vertical-align: middle;'></progress>\n",
              "      [13/13 00:12]\n",
              "    </div>\n",
              "    "
            ]
          },
          "metadata": {}
        },
        {
          "output_type": "execute_result",
          "data": {
            "text/plain": [
              "{'eval_loss': 3.1398255825042725,\n",
              " 'eval_rouge1': 18.4403,\n",
              " 'eval_rouge2': 6.1482,\n",
              " 'eval_rougeL': 15.2065,\n",
              " 'eval_rougeLsum': 15.0034,\n",
              " 'eval_runtime': 14.5008,\n",
              " 'eval_samples_per_second': 3.448,\n",
              " 'eval_steps_per_second': 0.897,\n",
              " 'epoch': 2.0}"
            ]
          },
          "metadata": {},
          "execution_count": 13
        }
      ]
    },
    {
      "cell_type": "code",
      "source": [
        "import matplotlib.pyplot as plt\n",
        "\n",
        "metrics = {\n",
        "    'eval_loss': 3.1398255825042725,\n",
        "    'eval_rouge1': 18.4403,\n",
        "    'eval_rouge2': 6.1482,\n",
        "    'eval_rougeL': 15.2065,\n",
        "    'eval_rougeLsum': 15.0034,\n",
        "}\n",
        "\n",
        "rouge_scores = {k: v for k, v in metrics.items() if 'rouge' in k}\n",
        "\n",
        "plt.figure(figsize=(6, 4))\n",
        "plt.bar(rouge_scores.keys(), rouge_scores.values(), color='skyblue')\n",
        "plt.ylabel(\"Score (%)\")\n",
        "plt.title(\"ROUGE Scores\")\n",
        "plt.ylim(0, max(rouge_scores.values()) + 5)\n",
        "\n",
        "for i, (k, v) in enumerate(rouge_scores.items()):\n",
        "    plt.text(i, v + 0.5, f\"{v:.2f}\", ha='center')\n",
        "\n",
        "plt.show()\n"
      ],
      "metadata": {
        "colab": {
          "base_uri": "https://localhost:8080/",
          "height": 391
        },
        "id": "b5BpTYyvaU_F",
        "outputId": "0b5bcade-f37c-4576-f1c9-87a0f1357419"
      },
      "execution_count": 14,
      "outputs": [
        {
          "output_type": "display_data",
          "data": {
            "text/plain": [
              "<Figure size 600x400 with 1 Axes>"
            ],
            "image/png": "[encoded data removed]"
          },
          "metadata": {}
        }
      ]
    }
  ]
}