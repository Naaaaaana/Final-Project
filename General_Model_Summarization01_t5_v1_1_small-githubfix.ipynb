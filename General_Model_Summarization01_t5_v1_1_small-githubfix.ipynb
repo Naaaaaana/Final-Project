{
 "cells": [
  {
   "cell_type": "code",
   "execution_count": 1,
   "metadata": {
    "colab": {
     "base_uri": "https://localhost:8080/"
    },
    "id": "bKfSNBLOtLWW",
    "outputId": "403f3c49-6000-4da2-d4ca-a7a3ebe9bdaf"
   },
   "outputs": [
    {
     "name": "stdout",
     "output_type": "stream",
     "text": [
      "Requirement already satisfied: transformers in /usr/local/lib/python3.12/dist-packages (4.55.2)\n",
      "Requirement already satisfied: filelock in /usr/local/lib/python3.12/dist-packages (from transformers) (3.19.1)\n",
      "Requirement already satisfied: huggingface-hub<1.0,>=0.34.0 in /usr/local/lib/python3.12/dist-packages (from transformers) (0.34.4)\n",
      "Requirement already satisfied: numpy>=1.17 in /usr/local/lib/python3.12/dist-packages (from transformers) (2.0.2)\n",
      "Requirement already satisfied: packaging>=20.0 in /usr/local/lib/python3.12/dist-packages (from transformers) (25.0)\n",
      "Requirement already satisfied: pyyaml>=5.1 in /usr/local/lib/python3.12/dist-packages (from transformers) (6.0.2)\n",
      "Requirement already satisfied: regex!=2019.12.17 in /usr/local/lib/python3.12/dist-packages (from transformers) (2024.11.6)\n",
      "Requirement already satisfied: requests in /usr/local/lib/python3.12/dist-packages (from transformers) (2.32.3)\n",
      "Requirement already satisfied: tokenizers<0.22,>=0.21 in /usr/local/lib/python3.12/dist-packages (from transformers) (0.21.4)\n",
      "Requirement already satisfied: safetensors>=0.4.3 in /usr/local/lib/python3.12/dist-packages (from transformers) (0.6.2)\n",
      "Requirement already satisfied: tqdm>=4.27 in /usr/local/lib/python3.12/dist-packages (from transformers) (4.67.1)\n",
      "Requirement already satisfied: fsspec>=2023.5.0 in /usr/local/lib/python3.12/dist-packages (from huggingface-hub<1.0,>=0.34.0->transformers) (2025.3.0)\n",
      "Requirement already satisfied: typing-extensions>=3.7.4.3 in /usr/local/lib/python3.12/dist-packages (from huggingface-hub<1.0,>=0.34.0->transformers) (4.14.1)\n",
      "Requirement already satisfied: hf-xet<2.0.0,>=1.1.3 in /usr/local/lib/python3.12/dist-packages (from huggingface-hub<1.0,>=0.34.0->transformers) (1.1.7)\n",
      "Requirement already satisfied: charset-normalizer<4,>=2 in /usr/local/lib/python3.12/dist-packages (from requests->transformers) (3.4.3)\n",
      "Requirement already satisfied: idna<4,>=2.5 in /usr/local/lib/python3.12/dist-packages (from requests->transformers) (3.10)\n",
      "Requirement already satisfied: urllib3<3,>=1.21.1 in /usr/local/lib/python3.12/dist-packages (from requests->transformers) (2.5.0)\n",
      "Requirement already satisfied: certifi>=2017.4.17 in /usr/local/lib/python3.12/dist-packages (from requests->transformers) (2025.8.3)\n"
     ]
    }
   ],
   "source": [
    "!pip install -U transformers"
   ]
  },
  {
   "cell_type": "markdown",
   "metadata": {
    "id": "kmR1QXkItLWZ"
   },
   "source": [
    "## Local Inference on GPU\n",
    "Model page: https://huggingface.co/google/t5-v1_1-small\n",
    "\n",
    "⚠️ If the generated code snippets do not work, please open an issue on either the [model repo](https://huggingface.co/google/t5-v1_1-small)\n",
    "\t\t\tand/or on [huggingface.js](https://github.com/huggingface/huggingface.js/blob/main/packages/tasks/src/model-libraries-snippets.ts) 🙏"
   ]
  },
  {
   "cell_type": "code",
   "execution_count": 2,
   "metadata": {
    "colab": {
     "base_uri": "https://localhost:8080/",
     "height": 382,
     "referenced_widgets": [
      "afb0dfbdade64108a72e25bca6101f7d",
      "9f920c4a57f0483d898cc70fcaf1f05b",
      "d072298da5634fe9a2c35e21ce83ed64",
      "a9c0bd84508d4b328403b3dc151eee01",
      "ee9777903a4a4b6bae7ca0fca6a9fcb5",
      "10512789aefd4655bad47145d1d69f93",
      "b6ce66b9db784bbfbd846d31614f66b6",
      "4ee5fa01cf214d3c858e3fa9438a3608",
      "6d1cfa2f866c4986abb280bc2e4cc721",
      "b120b6712e884dcab4e33349578bb455",
      "634d90c92d784b4d86af44a022c903ba",
      "0421965b1365402282b9a08e2c95992c",
      "02511cf69bd14ffdaa066f4e01ac0700",
      "17da4e5328694eb8ae908513b10d0232",
      "948f0573f367409ba8092d309d149346",
      "9b7d7b8db0fd427784591ee169346763",
      "25c1f8e35e4e46e2af29a8038425c209",
      "444950fe90c941e8a6d88c8b96b2df81",
      "a5273d9af89846c2bb13c8cf364d6419",
      "768209fca7bf4f7f8f618afdd43d8d37",
      "bc42afb2021040509330f44ff4b5177b",
      "a273a6a9696e41db9bea4d635e3b18f6",
      "c890dec593b2447e86949e8ab269600e",
      "d63aa13162d344b2af5c0ad369f7bd54",
      "b93b63a7d5dc4730a5a108c5a156cf8f",
      "0329131cc6c0457d865fa2f9475ffc31",
      "e6146413913e487084a411ca029b4de4",
      "7551940d341b466ea5147f3961691145",
      "ee925645e78d447c9be5a7405667fc05",
      "70c631ca5bed42a68b1139e310e9e9cc",
      "34085b25eb924b309d53e83dbeeb13ad",
      "56d21752ebaa48c5866a2850ab09fbee",
      "8718e7b350cb4678a40a8d66ece69f5b",
      "31229623a310487d8e656d7cf5899d1b",
      "20e851deb3e0465fbc70b9ea9137f230",
      "93943535436e456ca9ebb16499fc4e4b",
      "2d6704fc71bc45eeb26f2b1749fd89ac",
      "e34abc9f2ecc49b89f1fbc018a5d3192",
      "55aa977b74a6495181d7a3c4060ba9ef",
      "352f5ac39fe142de8c0f442890ba7aad",
      "177cbfd3c1434b5aab9f0f358b72b3a3",
      "a15b6ae62d0645048076446e03a5a5a5",
      "7e555daffb424b858b83455c6d25a648",
      "cb1ace586ceb46b2b537f72d69e793eb",
      "71d871412dae418a9bc6cf95c4b64be4",
      "ac52c10b93a947eca8ba194a5455bce5",
      "04061a14009248f7b5afee2e130aeae9",
      "8a0dc5f1f9fd4b228c53e377df34efdb",
      "305f937ceadd4dec833acf1b4a2766e5",
      "f8000e1a18634e79be470e9b5f27798c",
      "5347e16366c34392ac0177dc5a6d42ad",
      "4e7aa03e24834c51b5a86ead3394edaa",
      "91e2d9652ac547728146f5792102aa43",
      "b806b1fa064a4955a3181efec741a75c",
      "7433802b899d4a41b1b8ee7b7b3df954",
      "949ed628172e455e99a8ab5f90d735d5",
      "9b90b00308994ff388e58ee1537cd500",
      "03af4f25c85048eeb593d02caad39eae",
      "2cf1f674ef284531b4d09c32daafcf63",
      "3e3c6126222b4b9ba57ff920b986708c",
      "a1f1cc6206124c4a9f6ec92f4ff92f0d",
      "254b380babfb4b1fb452e0f07d9279e6",
      "33c1b1a8f49646f1bf4b7103a6b41bf3",
      "b409272020b64c7baeb8c90fec572af0",
      "1810141a404449b8901749c7b2029f7b",
      "bf24b31b43214f2da1b7d744bc532e01",
      "5c16fcd386564724950f2f21c444debd",
      "19b3797a1b1d4ac7bdd794947e958001",
      "ad345ccbe7fd4ea28b3eb46b0b4bc11e",
      "6aa1ece22a944b2781fb99911a42d59a",
      "ebddb22fdb6c4fc0b79cde2238555862",
      "7493721a4df74c4da50b0108cc4f755a",
      "d47c466419a24ecfa7f3dd387549422d",
      "0d02cd59f4e14edbb53cb3f04d69774d",
      "bd6451bbe6034a0ebdf3efaecd074a3e",
      "4cfcf312760648608d4044f9c081a521",
      "6e78ee1a09984ce2ba60241b8acdae21"
     ]
    },
    "id": "VZTqjTSftLWa",
    "outputId": "af0513c2-68c2-4765-c520-e983ec54013c"
   },
   "outputs": [
    {
     "name": "stderr",
     "output_type": "stream",
     "text": [
      "/usr/local/lib/python3.12/dist-packages/huggingface_hub/utils/_auth.py:94: UserWarning: \n",
      "The secret `HF_TOKEN` does not exist in your Colab secrets.\n",
      "To authenticate with the Hugging Face Hub, create a token in your settings tab (https://huggingface.co/settings/tokens), set it as secret in your Google Colab and restart your session.\n",
      "You will be able to reuse this secret in all of your notebooks.\n",
      "Please note that authentication is recommended but still optional to access public models or datasets.\n",
      "  warnings.warn(\n"
     ]
    },
    {
     "name": "stderr",
     "output_type": "stream",
     "text": [
      "You are using the default legacy behaviour of the <class 'transformers.models.t5.tokenization_t5.T5Tokenizer'>. This is expected, and simply means that the `legacy` (previous) behavior will be used so nothing changes for you. If you want to use the new behaviour, set `legacy=False`. This should only be set if you understand what it means, and thoroughly read the reason why this was added as explained in https://github.com/huggingface/transformers/pull/24565\n"
     ]
    }
   ],
   "source": [
    "# Load model directly\n",
    "from transformers import AutoTokenizer, AutoModelForSeq2SeqLM\n",
    "\n",
    "tokenizer = AutoTokenizer.from_pretrained(\"google/t5-v1_1-small\")\n",
    "model = AutoModelForSeq2SeqLM.from_pretrained(\"google/t5-v1_1-small\")\n",
    "\n",
    "model.config.num_beams = 4\n",
    "model.config.num_return_sequences = 1\n",
    "model.config.length_penalty = 1.0\n",
    "model.config.no_repeat_ngram_size = 3\n"
   ]
  },
  {
   "cell_type": "code",
   "execution_count": 3,
   "metadata": {
    "colab": {
     "base_uri": "https://localhost:8080/",
     "height": 305,
     "referenced_widgets": [
      "187729f4372a41c2aae80252f66e4c7c",
      "3dff0db5a0fa4418a208d7063b5a8196",
      "c2b2d518636c4284938fd7c6471657c5",
      "d566929db6634edd9ce9b6f6bce77255",
      "e2fbf701349843b1937c73fc00e4ad8b",
      "7b9cdc4f140a42d4ba118c77a5314b43",
      "ad09036bc7df4043810fb9e6e4bf82f3",
      "b5007f5fab56429795be94239f897dbf",
      "e6957f93d8354e339eb388ab819a3aeb",
      "c85b2a071f84454e92dc140058a889d1",
      "044e637fc8fa4a2c8bb05f30341e30cb",
      "3ff66b09411942feb4cd7de08796cd88",
      "ba6128f88ce4400cb63a31259b21228f",
      "94fa34f1fbd94a9bbe560e8d78f4d744",
      "67f198d439534cadb65c6f0c32c70391",
      "fd1b95a77a074508b8ab8ad3dae2719e",
      "f30778458ca941809dcc7efd2276cf87",
      "e33dad5f8c6a44bca2eb5b58b98cf6d2",
      "8a599a54a96b42fc8b328685fdcbf924",
      "d9939fe46a4041aeba4720c1bd75071c",
      "d8f62dbf7e2b45008fc9a8081659373f",
      "7cf2480797684e90b61a9230944ddaff",
      "531b5ad238e74931bfb5348ae6773cbb",
      "1af85ddd043042169abb538581fb4700",
      "1ab76cdb58f2453b989fac75ff4d8654",
      "84b00887c9a241b3af054ad74b567644",
      "83b46e63f04049eea35a75b5cf7eaff6",
      "93c1565781c743a0b5605c4067cf2678",
      "43457a759c44476c96e90a80f228ea36",
      "4d8835255250450bb651ce515999c0d5",
      "209eee477c5c419cabfd208d2363a90e",
      "b13c781337314f718a310583e6984ea1",
      "a4a8d2caad384589bde40332f46a89e5",
      "50a8793f4c5d4eee9fd10d38f3839c6d",
      "08b78779bd9e41059fd42eb0f67c5534",
      "573b1983707d4d02a05e58c4721322ef",
      "488e2ed554cd409597541e42e89320b8",
      "5444d95f22b64338a531eba0b37f03b8",
      "dbf3bb9edaca424cbab00377de7fa75f",
      "3bde0a479ccb47f092316e5d1e2eee6a",
      "99f38e8a7c614bd29c5ea8830edb79bf",
      "506ad6370de443b5b41b42c526e5ca38",
      "80548002604a425483e0d1475e1b2400",
      "a5fcfddbec284f6cbdea08a4e740cd64",
      "59298829064f43008edaab23c7867017",
      "1ca07171534e4b688ba52b257b3a7e08",
      "b9fa1d517f8c475d861bab274d042d5d",
      "d0900102f89e40dfa0394111d29b2d01",
      "59ab0d2f61924c0ebe21dd1a50351815",
      "0a6610ccac9c4322872fdfc6f604d47a",
      "158aba482a0b488999b7e91c8b19bc23",
      "042e3a2d7a3f4eefa8604b35e17e43cb",
      "6e606722978647d9bd66425c6a32f6b9",
      "fe404117aeba4f38879a63c489e7bf10",
      "d5d8b9bc7758481d88812036ea221235",
      "a274c408bfa440eba9d47d045b07c9ca",
      "75330d3ace58435095d43314740ff86a",
      "f07ef0f2d79747509402f8b9d1ff5a59",
      "b22e36412ab341e5b224c9f44aa873ba",
      "25db038fa80d43d8a4057fa9a84d63bb",
      "75c485d725e54e39880b04cfdd8f9d7b",
      "7ee116a98f4b41a6bbba91401a586345",
      "72f9f4d5cab64358b9178a8934d2ed7f",
      "36389c0ca8984ae7b270dd9d022edc8e",
      "2b5bf9be68574786ae0efbe014db01b7",
      "11f96d7d368342c8beff4474b6634a24",
      "15bfd67e7bd34c6ea7960cc3c6d511f8",
      "3247fd13cacc407fb599ef1cfadd26bc",
      "8cc68835a25540e5be3434213072ff14",
      "f8cf4ea17e424bd0b53ff50b317494ba",
      "84f6a38219e04d02a22b95de071db61f",
      "f6b66a4741434782a2c230c2e32ad835",
      "882f66663b6d4646bf9212e13dbda5be",
      "ec33c30b4e434220807ff61674e78d7d",
      "0679a1e3d77c419da9dee3d7d971d62a",
      "3460ca426a6e4ffabd0b57dfc97c2f8e",
      "5ea3c2202d684e0ea3a36dcfd1501fc8",
      "60e6d3dad0ad400eabb994d367096a1b",
      "76322291fe894a3c9544371b986fabf5",
      "e2e64633730d43259ea61190591b9ab2",
      "e22680e58245450d9dd90e0e2d293585",
      "75e6776a7e794b4f8c7511a1cdf1782f",
      "6ad9f6b2d5cb4f09bf3c67fb8932c49c",
      "635db2f3881b49568b71e34a572c38e2",
      "91c803e71ab742d58e9b0b69a3350416",
      "8965f6279afa42b88a1d5e1c03b76c85",
      "a9b0e410d9aa4845941a2f59c1592283",
      "fcf3a951d4d8432f8c0c7f3bff48019b",
      "564bb8def7c543239a93255e76460afa",
      "f52711b6bc9443c2a6c2796af96ff824",
      "7a499604825247b2b9a49a1d4cb9a50e",
      "4831b3d04fd54634825af608b68b1cdd",
      "cf46263e007547c0aefcc2d37e8a407f",
      "8e3bbf338d0a4fa2ab113bf3c31da654",
      "5ed1291c7d3d42ca91c222d78dc934b2",
      "5b64c33b42164b92b3f7c537ad35216b",
      "245385982385472e9e347a46009c308f",
      "a557555256af41208c04ceacb4cddd1d",
      "ff566260ca974c15b515291c9f7d78fb"
     ]
    },
    "id": "Igx5SceUtabx",
    "outputId": "55eee80d-30c1-4191-92d0-bdb06b66ee6a"
   },
   "outputs": [],
   "source": [
    "from datasets import load_dataset\n",
    "\n",
    "ds = load_dataset(\"abisee/cnn_dailymail\", \"3.0.0\")"
   ]
  },
  {
   "cell_type": "code",
   "execution_count": 4,
   "metadata": {
    "colab": {
     "base_uri": "https://localhost:8080/",
     "height": 104,
     "referenced_widgets": [
      "2e6d881ec3f448a891dea38ef24f0d7a",
      "8e86292fb79544dbb5ae6bd7945b1868",
      "61c9a602304b43aaab64ec737ec66a25",
      "98957ad5a6304f649c2c7d93bc0fded0",
      "f1b678e2c2544e41bae4e0ad75ac296e",
      "7dd81099c4e94d9a96fbef7085462d41",
      "3eac42668bd34553b5725157257f0be4",
      "ed9c77d215f442188889ba7c5fca8ade",
      "7359b52d319b4f708965b35b6c3cb68c",
      "ac9755e04e2b4ef8b582d7cbb3b29539",
      "acae887d500e42c3bf20c92868df9717"
     ]
    },
    "id": "An08Von849ME",
    "outputId": "a764e3a4-bc9a-497c-a428-a7406bc9122e"
   },
   "outputs": [
    {
     "name": "stderr",
     "output_type": "stream",
     "text": [
      "/usr/local/lib/python3.12/dist-packages/transformers/tokenization_utils_base.py:4006: UserWarning: `as_target_tokenizer` is deprecated and will be removed in v5 of Transformers. You can tokenize your labels by using the argument `text_target` of the regular `__call__` method (either in the same call as your input texts if you use the same keyword arguments, or in a separate call.\n",
      "  warnings.warn(\n"
     ]
    }
   ],
   "source": [
    "def preprocess_function(example):\n",
    "\n",
    "    input_text = \"summarize: \" + example[\"article\"]\n",
    "    target_text = example[\"highlights\"]\n",
    "\n",
    "\n",
    "    model_inputs = tokenizer(\n",
    "        input_text,\n",
    "        max_length=384,\n",
    "        truncation=True,\n",
    "        padding=\"max_length\"\n",
    "    )\n",
    "\n",
    "\n",
    "    with tokenizer.as_target_tokenizer():\n",
    "        labels = tokenizer(\n",
    "            target_text,\n",
    "            max_length=96,\n",
    "            truncation=True,\n",
    "            padding=\"max_length\"\n",
    "        )\n",
    "\n",
    "    model_inputs[\"labels\"] = labels[\"input_ids\"]\n",
    "    return model_inputs\n",
    "\n",
    "\n",
    "tokenized_dataset = ds[\"train\"].select(range(5000)).map(preprocess_function, batched=False)\n"
   ]
  },
  {
   "cell_type": "code",
   "execution_count": 5,
   "metadata": {
    "colab": {
     "base_uri": "https://localhost:8080/"
    },
    "id": "ibRH0TVR_PLJ",
    "outputId": "6868b81e-a30c-446d-ba5f-145ebe444892"
   },
   "outputs": [
    {
     "name": "stdout",
     "output_type": "stream",
     "text": [
      "DatasetDict({\n",
      "    train: Dataset({\n",
      "        features: ['article', 'highlights', 'id'],\n",
      "        num_rows: 287113\n",
      "    })\n",
      "    validation: Dataset({\n",
      "        features: ['article', 'highlights', 'id'],\n",
      "        num_rows: 13368\n",
      "    })\n",
      "    test: Dataset({\n",
      "        features: ['article', 'highlights', 'id'],\n",
      "        num_rows: 11490\n",
      "    })\n",
      "})\n"
     ]
    }
   ],
   "source": [
    "print(ds)"
   ]
  },
  {
   "cell_type": "code",
   "execution_count": 6,
   "metadata": {
    "colab": {
     "base_uri": "https://localhost:8080/"
    },
    "id": "j6NWwkDR5u__",
    "outputId": "62a89102-a604-4f5c-bc01-944641debd39"
   },
   "outputs": [
    {
     "name": "stdout",
     "output_type": "stream",
     "text": [
      "\u001b[?25l   \u001b[90m━━━━━━━━━━━━━━━━━━━━━━━━━━━━━━━━━━━━━━━━\u001b[0m \u001b[32m0.0/84.1 kB\u001b[0m \u001b[31m?\u001b[0m eta \u001b[36m-:--:--\u001b[0m\r",
      "\u001b[2K   \u001b[90m━━━━━━━━━━━━━━━━━━━━━━━━━━━━━━━━━━━━━━━━\u001b[0m \u001b[32m84.1/84.1 kB\u001b[0m \u001b[31m3.9 MB/s\u001b[0m eta \u001b[36m0:00:00\u001b[0m\n",
      "\u001b[?25hCollecting rouge_score\n",
      "  Downloading rouge_score-0.1.2.tar.gz (17 kB)\n",
      "  Preparing metadata (setup.py) ... \u001b[?25l\u001b[?25hdone\n",
      "Requirement already satisfied: absl-py in /usr/local/lib/python3.12/dist-packages (from rouge_score) (1.4.0)\n",
      "Requirement already satisfied: nltk in /usr/local/lib/python3.12/dist-packages (from rouge_score) (3.9.1)\n",
      "Requirement already satisfied: numpy in /usr/local/lib/python3.12/dist-packages (from rouge_score) (2.0.2)\n",
      "Requirement already satisfied: six>=1.14.0 in /usr/local/lib/python3.12/dist-packages (from rouge_score) (1.17.0)\n",
      "Requirement already satisfied: click in /usr/local/lib/python3.12/dist-packages (from nltk->rouge_score) (8.2.1)\n",
      "Requirement already satisfied: joblib in /usr/local/lib/python3.12/dist-packages (from nltk->rouge_score) (1.5.1)\n",
      "Requirement already satisfied: regex>=2021.8.3 in /usr/local/lib/python3.12/dist-packages (from nltk->rouge_score) (2024.11.6)\n",
      "Requirement already satisfied: tqdm in /usr/local/lib/python3.12/dist-packages (from nltk->rouge_score) (4.67.1)\n",
      "Building wheels for collected packages: rouge_score\n",
      "  Building wheel for rouge_score (setup.py) ... \u001b[?25l\u001b[?25hdone\n",
      "  Created wheel for rouge_score: filename=rouge_score-0.1.2-py3-none-any.whl size=24934 sha256=97c2c6aee624702a579401f07e5f21fbbc6571601cffada8b490f91baaf4d0ae\n",
      "  Stored in directory: /root/.cache/pip/wheels/85/9d/af/01feefbe7d55ef5468796f0c68225b6788e85d9d0a281e7a70\n",
      "Successfully built rouge_score\n",
      "Installing collected packages: rouge_score\n",
      "Successfully installed rouge_score-0.1.2\n"
     ]
    }
   ],
   "source": [
    "!pip install -q evaluate\n",
    "!pip install rouge_score"
   ]
  },
  {
   "cell_type": "code",
   "execution_count": 7,
   "metadata": {
    "colab": {
     "base_uri": "https://localhost:8080/",
     "height": 49,
     "referenced_widgets": [
      "55a8f1aa7eee48db8004c843863baec3",
      "cae584f9bbe047a8a507e96cd9a67014",
      "2307f84b5b8548709f47b44dbbd0b0b8",
      "6ee8c03b8d974a6f9b22e42cdfd20171",
      "6becf0d39f064b9eaa984366f00a104d",
      "b3032d9570234e0a8b97696a7a6e6854",
      "2b14ef99d24040679787409645905501",
      "f6de57d868b34edf86a3d0be16039ec0",
      "d4f7074f2aa74254878e9fb399d0953b",
      "f37b244fdedc44929a098ddc16908773",
      "7e6aad2f7c284e49b2009e71bda96454"
     ]
    },
    "id": "EbERjK_r5v6t",
    "outputId": "c8f8184a-fb48-4539-93a6-ad1da3025c25"
   },
   "outputs": [],
   "source": [
    "import numpy as np\n",
    "import evaluate\n",
    "rouge = evaluate.load('rouge')\n",
    "\n",
    "def _safe_ids(arr, pad_id, vocab_size=None):\n",
    "    arr = np.array(arr)\n",
    "    if arr.ndim == 3:\n",
    "        arr = arr[:, 0, :]\n",
    "\n",
    "    if arr.dtype.kind != 'i':\n",
    "        arr = arr.astype('int64', copy=False)\n",
    "\n",
    "    arr[arr < 0] = pad_id\n",
    "    if vocab_size is not None and vocab_size > 0:\n",
    "        arr = np.where(arr >= vocab_size, pad_id, arr)\n",
    "    return arr\n",
    "\n",
    "def compute_metrics(eval_pred):\n",
    "    preds, labels = eval_pred\n",
    "    pad_id = tokenizer.pad_token_id if tokenizer.pad_token_id is not None else 0\n",
    "    vocab_size = getattr(tokenizer, 'vocab_size', None)\n",
    "\n",
    "    if isinstance(preds, tuple):\n",
    "        preds = preds[0]\n",
    "\n",
    "    preds  = _safe_ids(preds,  pad_id, vocab_size)\n",
    "    labels = np.array(labels)\n",
    "    labels = np.where(labels != -100, labels, pad_id)\n",
    "    labels = _safe_ids(labels, pad_id, vocab_size)\n",
    "\n",
    "    decoded_preds  = tokenizer.batch_decode(preds.tolist(),  skip_special_tokens=True)\n",
    "    decoded_labels = tokenizer.batch_decode(labels.tolist(), skip_special_tokens=True)\n",
    "\n",
    "    decoded_preds  = [p.strip() for p in decoded_preds]\n",
    "    decoded_labels = [l.strip() for l in decoded_labels]\n",
    "\n",
    "    result = rouge.compute(predictions=decoded_preds, references=decoded_labels, use_stemmer=True)\n",
    "    result = {k: round(v * 100, 4) for k, v in result.items()}\n",
    "    return result\n"
   ]
  },
  {
   "cell_type": "code",
   "execution_count": 8,
   "metadata": {
    "id": "GGIrSbzQ5IKt"
   },
   "outputs": [],
   "source": [
    "from transformers import Seq2SeqTrainingArguments\n",
    "\n",
    "training_args = Seq2SeqTrainingArguments(\n",
    "    predict_with_generate=True,\n",
    "    output_dir=\"./t5-small-cnn-summarizer\",\n",
    "    num_train_epochs=2,\n",
    "    per_device_train_batch_size=4,\n",
    "    per_device_eval_batch_size=4,\n",
    "    logging_steps=100,\n",
    "    save_steps=500,\n",
    "    save_total_limit=2,\n",
    "    remove_unused_columns=True,\n",
    "    report_to=\"none\",\n",
    "    generation_max_length=128,\n",
    "    fp16=False\n",
    ")"
   ]
  },
  {
   "cell_type": "code",
   "execution_count": 9,
   "metadata": {
    "colab": {
     "base_uri": "https://localhost:8080/",
     "height": 104,
     "referenced_widgets": [
      "22eb53fc65e24ee481bdeca49d0d684b",
      "5b4283c033944ab79882e9b60f99092f",
      "4bb48a5f08ff41feb94cd17ff2a0ff60",
      "0ecf3031f02b41569e8d5c5ee5667a57",
      "9b0c45dce3a648fdbec85c9ec5a543ac",
      "f68ec9ecd19c4657a8f8c39a7dc7d6c7",
      "ae5cbbc35b7a446588d920ebcfcd5a53",
      "1472e5763a5e4a68943c8ddc5d0f0def",
      "4227f6773717490b866e798e87d57ded",
      "68f81e3b800446cbbdaff81e77c8ed06",
      "287a04b0ec484837a8607c802f0496b1"
     ]
    },
    "id": "WdGhaqNv92_o",
    "outputId": "abae2084-8613-401c-d8bc-9c5303f0d266"
   },
   "outputs": [
    {
     "name": "stderr",
     "output_type": "stream",
     "text": [
      "/usr/local/lib/python3.12/dist-packages/transformers/tokenization_utils_base.py:4006: UserWarning: `as_target_tokenizer` is deprecated and will be removed in v5 of Transformers. You can tokenize your labels by using the argument `text_target` of the regular `__call__` method (either in the same call as your input texts if you use the same keyword arguments, or in a separate call.\n",
      "  warnings.warn(\n"
     ]
    }
   ],
   "source": [
    "val_dataset = ds[\"validation\"].select(range(50))\n",
    "tokenized_val_dataset = val_dataset.map(preprocess_function, batched=False)"
   ]
  },
  {
   "cell_type": "code",
   "execution_count": 10,
   "metadata": {
    "colab": {
     "base_uri": "https://localhost:8080/"
    },
    "id": "m7p5crQa5PF1",
    "outputId": "e9469fdf-82e4-4b8e-9f45-32feb46094be"
   },
   "outputs": [
    {
     "name": "stderr",
     "output_type": "stream",
     "text": [
      "/tmp/ipython-input-1855562264.py:2: FutureWarning: `tokenizer` is deprecated and will be removed in version 5.0.0 for `Seq2SeqTrainer.__init__`. Use `processing_class` instead.\n",
      "  trainer = Seq2SeqTrainer(\n"
     ]
    }
   ],
   "source": [
    "from transformers import Seq2SeqTrainer\n",
    "trainer = Seq2SeqTrainer(\n",
    "    model=model,\n",
    "    args=training_args,\n",
    "    train_dataset=tokenized_dataset,\n",
    "    eval_dataset=tokenized_val_dataset,\n",
    "    tokenizer=tokenizer,\n",
    "    compute_metrics=compute_metrics\n",
    ")"
   ]
  },
  {
   "cell_type": "code",
   "execution_count": 11,
   "metadata": {
    "id": "7fTb1zOvAskU"
   },
   "outputs": [],
   "source": [
    "import torch\n",
    "torch.cuda.empty_cache()"
   ]
  },
  {
   "cell_type": "code",
   "execution_count": 12,
   "metadata": {
    "colab": {
     "base_uri": "https://localhost:8080/",
     "height": 949
    },
    "id": "drqCZyWa6tNQ",
    "outputId": "cd517768-040f-4192-a891-7b744701d70a"
   },
   "outputs": [
    {
     "data": {
      "text/html": [
       "\n",
       "    <div>\n",
       "      \n",
       "      <progress value='2500' max='2500' style='width:300px; height:20px; vertical-align: middle;'></progress>\n",
       "      [2500/2500 08:12, Epoch 2/2]\n",
       "    </div>\n",
       "    <table border=\"1\" class=\"dataframe\">\n",
       "  <thead>\n",
       " <tr style=\"text-align: left;\">\n",
       "      <th>Step</th>\n",
       "      <th>Training Loss</th>\n",
       "    </tr>\n",
       "  </thead>\n",
       "  <tbody>\n",
       "    <tr>\n",
       "      <td>100</td>\n",
       "      <td>21.811000</td>\n",
       "    </tr>\n",
       "    <tr>\n",
       "      <td>200</td>\n",
       "      <td>7.827300</td>\n",
       "    </tr>\n",
       "    <tr>\n",
       "      <td>300</td>\n",
       "      <td>5.027600</td>\n",
       "    </tr>\n",
       "    <tr>\n",
       "      <td>400</td>\n",
       "      <td>4.266500</td>\n",
       "    </tr>\n",
       "    <tr>\n",
       "      <td>500</td>\n",
       "      <td>3.730100</td>\n",
       "    </tr>\n",
       "    <tr>\n",
       "      <td>600</td>\n",
       "      <td>3.470000</td>\n",
       "    </tr>\n",
       "    <tr>\n",
       "      <td>700</td>\n",
       "      <td>3.377500</td>\n",
       "    </tr>\n",
       "    <tr>\n",
       "      <td>800</td>\n",
       "      <td>3.152400</td>\n",
       "    </tr>\n",
       "    <tr>\n",
       "      <td>900</td>\n",
       "      <td>3.026600</td>\n",
       "    </tr>\n",
       "    <tr>\n",
       "      <td>1000</td>\n",
       "      <td>2.920300</td>\n",
       "    </tr>\n",
       "    <tr>\n",
       "      <td>1100</td>\n",
       "      <td>2.869000</td>\n",
       "    </tr>\n",
       "    <tr>\n",
       "      <td>1200</td>\n",
       "      <td>2.898400</td>\n",
       "    </tr>\n",
       "    <tr>\n",
       "      <td>1300</td>\n",
       "      <td>2.818200</td>\n",
       "    </tr>\n",
       "    <tr>\n",
       "      <td>1400</td>\n",
       "      <td>2.752600</td>\n",
       "    </tr>\n",
       "    <tr>\n",
       "      <td>1500</td>\n",
       "      <td>2.736000</td>\n",
       "    </tr>\n",
       "    <tr>\n",
       "      <td>1600</td>\n",
       "      <td>2.716100</td>\n",
       "    </tr>\n",
       "    <tr>\n",
       "      <td>1700</td>\n",
       "      <td>2.729800</td>\n",
       "    </tr>\n",
       "    <tr>\n",
       "      <td>1800</td>\n",
       "      <td>2.722300</td>\n",
       "    </tr>\n",
       "    <tr>\n",
       "      <td>1900</td>\n",
       "      <td>2.688300</td>\n",
       "    </tr>\n",
       "    <tr>\n",
       "      <td>2000</td>\n",
       "      <td>2.722400</td>\n",
       "    </tr>\n",
       "    <tr>\n",
       "      <td>2100</td>\n",
       "      <td>2.670600</td>\n",
       "    </tr>\n",
       "    <tr>\n",
       "      <td>2200</td>\n",
       "      <td>2.636300</td>\n",
       "    </tr>\n",
       "    <tr>\n",
       "      <td>2300</td>\n",
       "      <td>2.627900</td>\n",
       "    </tr>\n",
       "    <tr>\n",
       "      <td>2400</td>\n",
       "      <td>2.663000</td>\n",
       "    </tr>\n",
       "    <tr>\n",
       "      <td>2500</td>\n",
       "      <td>2.679800</td>\n",
       "    </tr>\n",
       "  </tbody>\n",
       "</table><p>"
      ],
      "text/plain": [
       "<IPython.core.display.HTML object>"
      ]
     },
     "metadata": {},
     "output_type": "display_data"
    },
    {
     "name": "stderr",
     "output_type": "stream",
     "text": [
      "/usr/local/lib/python3.12/dist-packages/transformers/modeling_utils.py:3917: UserWarning: Moving the following attributes in the config to the generation config: {'num_beams': 4, 'no_repeat_ngram_size': 3}. You are seeing this warning because you've set generation parameters in the model config, as opposed to in the generation config.\n",
      "  warnings.warn(\n"
     ]
    },
    {
     "data": {
      "text/plain": [
       "TrainOutput(global_step=2500, training_loss=3.9815963012695312, metrics={'train_runtime': 495.2915, 'train_samples_per_second': 20.19, 'train_steps_per_second': 5.048, 'total_flos': 1394178785280000.0, 'train_loss': 3.9815963012695312, 'epoch': 2.0})"
      ]
     },
     "execution_count": 12,
     "metadata": {},
     "output_type": "execute_result"
    }
   ],
   "source": [
    "trainer.train()"
   ]
  },
  {
   "cell_type": "code",
   "execution_count": 13,
   "metadata": {
    "colab": {
     "base_uri": "https://localhost:8080/",
     "height": 193
    },
    "id": "j3tW90zE9T8J",
    "outputId": "a9ab70e3-4910-4d71-9c98-40ed23a813fa"
   },
   "outputs": [
    {
     "data": {
      "text/html": [
       "\n",
       "    <div>\n",
       "      \n",
       "      <progress value='13' max='13' style='width:300px; height:20px; vertical-align: middle;'></progress>\n",
       "      [13/13 00:16]\n",
       "    </div>\n",
       "    "
      ],
      "text/plain": [
       "<IPython.core.display.HTML object>"
      ]
     },
     "metadata": {},
     "output_type": "display_data"
    },
    {
     "data": {
      "text/plain": [
       "{'eval_loss': 1.3464562892913818,\n",
       " 'eval_rouge1': 30.348,\n",
       " 'eval_rouge2': 10.6694,\n",
       " 'eval_rougeL': 22.1665,\n",
       " 'eval_rougeLsum': 22.2353,\n",
       " 'eval_runtime': 18.9989,\n",
       " 'eval_samples_per_second': 2.632,\n",
       " 'eval_steps_per_second': 0.684,\n",
       " 'epoch': 2.0}"
      ]
     },
     "execution_count": 13,
     "metadata": {},
     "output_type": "execute_result"
    }
   ],
   "source": [
    "trainer.evaluate()"
   ]
  },
  {
   "cell_type": "code",
   "execution_count": 15,
   "metadata": {
    "colab": {
     "base_uri": "https://localhost:8080/",
     "height": 391
    },
    "id": "b0Memm1CyTTZ",
    "outputId": "b8b6d45f-9435-4370-f5a6-9dc7b072caef"
   },
   "outputs": [
    {
     "data": {
      "image/png": "[encoded data removed]",
      "text/plain": [
       "<Figure size 600x400 with 1 Axes>"
      ]
     },
     "metadata": {},
     "output_type": "display_data"
    }
   ],
   "source": [
    "import matplotlib.pyplot as plt\n",
    "\n",
    "metrics = {\n",
    "    'eval_loss': 1.3465,\n",
    "    'eval_rouge1': 30.348,\n",
    "    'eval_rouge2': 10.6694,\n",
    "    'eval_rougeL': 22.1665,\n",
    "    'eval_rougeLsum': 22.2353\n",
    "}\n",
    "\n",
    "rouge_keys = ['eval_rouge1', 'eval_rouge2', 'eval_rougeL', 'eval_rougeLsum']\n",
    "rouge_values = [metrics[k] for k in rouge_keys]\n",
    "\n",
    "plt.figure(figsize=(6,4))\n",
    "bars = plt.bar(rouge_keys, rouge_values, color='skyblue')\n",
    "plt.ylabel('Score')\n",
    "plt.ylim(0, 100)\n",
    "plt.title('ROUGE Scores')\n",
    "\n",
    "for bar, val in zip(bars, rouge_values):\n",
    "    plt.text(bar.get_x() + bar.get_width()/2, bar.get_height() + 1, f'{val:.2f}', ha='center', va='bottom')\n",
    "\n",
    "plt.show()\n"
   ]
  },
  {
   "cell_type": "code",
   "execution_count": 16,
   "metadata": {
    "colab": {
     "base_uri": "https://localhost:8080/"
    },
    "id": "CjzHh8ASkmIR",
    "outputId": "af2e0534-3b09-4ad5-855e-03dccfedd733"
   },
   "outputs": [
    {
     "name": "stdout",
     "output_type": "stream",
     "text": [
      "=== Metrics ===\n",
      "Average Inference Latency (single input): 471.08 ms\n",
      "GPU Memory (Current Allocated): 900.99 MB\n",
      "GPU Memory (Peak Allocated):    961.81 MB\n",
      "CPU Memory Usage: 2937.74 MB\n",
      "Batch Size 1  Latency: 471.08 ms\n",
      "Batch Size 8  Latency: 1417.08 ms\n",
      "Batch Size 16 Latency: 2101.95 ms\n",
      "Batch Size 32 Latency: 3963.33 ms\n"
     ]
    }
   ],
   "source": [
    "\n",
    "import os, time, psutil, torch, numpy as np\n",
    "\n",
    "device = torch.device(\"cuda\" if torch.cuda.is_available() else \"cpu\")\n",
    "model.to(device).eval()\n",
    "\n",
    "\n",
    "def pick_texts(n=64):\n",
    "    try:\n",
    "        cols = getattr(val_dataset, \"column_names\", [])\n",
    "        col = next((c for c in [\"input_text\",\"text\",\"article\",\"content\",\"src\"] if c in cols), None)\n",
    "        if col is None: raise KeyError\n",
    "        xs = [val_dataset[i][col] for i in range(min(n, len(val_dataset)))]\n",
    "        if not xs: raise KeyError\n",
    "\n",
    "        return (xs * (n // len(xs) + 1))[:n]\n",
    "    except Exception:\n",
    "        return [\"This is a short sentence for timing.\"] * n\n",
    "\n",
    "def encode(texts):\n",
    "    enc = tokenizer(texts, return_tensors=\"pt\", padding=True, truncation=True)\n",
    "    return {k: v.to(device) for k, v in enc.items()}\n",
    "\n",
    "@torch.inference_mode()\n",
    "def run_batch(bs, repeats=10, warmup=3, max_new_tokens=6, gen_kwargs=None):\n",
    "    if gen_kwargs is None:\n",
    "        gen_kwargs = dict(num_beams=4, early_stopping=True)\n",
    "    texts  = pick_texts(bs)\n",
    "    inputs = encode(texts)\n",
    "\n",
    "\n",
    "    max_length = int(inputs[\"input_ids\"].size(1) + max_new_tokens)\n",
    "\n",
    "    if device.type == \"cuda\":\n",
    "        torch.cuda.empty_cache()\n",
    "        torch.cuda.reset_peak_memory_stats()\n",
    "\n",
    "\n",
    "    for _ in range(warmup):\n",
    "        _ = model.generate(\n",
    "            input_ids=inputs[\"input_ids\"],\n",
    "            attention_mask=inputs.get(\"attention_mask\"),\n",
    "            max_length=max_length, **gen_kwargs\n",
    "        )\n",
    "        if device.type == \"cuda\": torch.cuda.synchronize()\n",
    "\n",
    "\n",
    "    times = []\n",
    "    for _ in range(repeats):\n",
    "        t0 = time.perf_counter()\n",
    "        _ = model.generate(\n",
    "            input_ids=inputs[\"input_ids\"],\n",
    "            attention_mask=inputs.get(\"attention_mask\"),\n",
    "            max_length=max_length, **gen_kwargs\n",
    "        )\n",
    "        if device.type == \"cuda\": torch.cuda.synchronize()\n",
    "        times.append(time.perf_counter() - t0)\n",
    "\n",
    "\n",
    "    gpu_cur = gpu_peak = None\n",
    "    if device.type == \"cuda\":\n",
    "        gpu_cur  = torch.cuda.memory_allocated() / (1024**2)      # MB\n",
    "        gpu_peak = torch.cuda.max_memory_allocated() / (1024**2)  # MB\n",
    "    cpu_mb = psutil.Process(os.getpid()).memory_info().rss / (1024**2)\n",
    "\n",
    "    return dict(\n",
    "        bs=bs,\n",
    "        avg_s=float(np.mean(times)),\n",
    "        p50_s=float(np.median(times)),\n",
    "        p90_s=float(np.percentile(times, 90)),\n",
    "        gpu_cur_mb=None if gpu_cur is None else round(gpu_cur, 2),\n",
    "        gpu_peak_mb=None if gpu_peak is None else round(gpu_peak, 2),\n",
    "        cpu_mb=round(cpu_mb, 2),\n",
    "    )\n",
    "\n",
    "def safe_run(bs):\n",
    "    try:\n",
    "        return run_batch(bs)\n",
    "    except RuntimeError as e:\n",
    "        if \"out of memory\" in str(e).lower():\n",
    "            if device.type == \"cuda\": torch.cuda.empty_cache()\n",
    "            return dict(bs=bs, avg_s=None, OOM=True)\n",
    "        raise\n",
    "\n",
    "\n",
    "single = safe_run(1)\n",
    "b1  = single\n",
    "b8  = safe_run(8)\n",
    "b16 = safe_run(16)\n",
    "b32 = safe_run(32)\n",
    "\n",
    "def fmt_ms(v): return \"OOM\" if (v is None) else f\"{v*1000:.2f} ms\"\n",
    "\n",
    "print(\"=== Metrics ===\")\n",
    "print(f\"Average Inference Latency (single input): {fmt_ms(b1['avg_s'])}\")\n",
    "print(f\"GPU Memory (Current Allocated): {b1.get('gpu_cur_mb','N/A')} MB\")\n",
    "print(f\"GPU Memory (Peak Allocated):    {b1.get('gpu_peak_mb','N/A')} MB\")\n",
    "print(f\"CPU Memory Usage: {b1.get('cpu_mb','N/A')} MB\")\n",
    "print(f\"Batch Size 1  Latency: {fmt_ms(b1['avg_s'])}\")\n",
    "print(f\"Batch Size 8  Latency: {fmt_ms(b8.get('avg_s'))}\")\n",
    "print(f\"Batch Size 16 Latency: {fmt_ms(b16.get('avg_s'))}\")\n",
    "print(f\"Batch Size 32 Latency: {fmt_ms(b32.get('avg_s'))}\")\n"
   ]
  }
 ],
 "metadata": {
  "accelerator": "GPU",
  "colab": {
   "gpuType": "T4",
   "machine_shape": "hm",
   "provenance": []
  },
  "kaggle": {
   "accelerator": "gpu"
  },
  "kernelspec": {
   "display_name": "Python 3",
   "name": "python3"
  },
  "language_info": {
   "name": "python"
  }
 },
 "nbformat": 4,
 "nbformat_minor": 0
}
