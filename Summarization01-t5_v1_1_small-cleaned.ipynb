{
  "nbformat": 4,
  "nbformat_minor": 0,
  "metadata": {
    "colab": {
      "machine_shape": "hm",
      "gpuType": "T4",
      "provenance": []
    },
    "accelerator": "GPU",
    "kaggle": {
      "accelerator": "gpu"
    },
    "language_info": {
      "name": "python"
    },
    "kernelspec": {
      "name": "python3",
      "display_name": "Python 3"
    }
  },
  "cells": [
    {
      "cell_type": "code",
      "source": [
        "!pip install -U transformers"
      ],
      "metadata": {
        "id": "bKfSNBLOtLWW",
        "outputId": "79f86abf-6b8e-4884-ab8c-c2272c70d263",
        "colab": {
          "base_uri": "https://localhost:8080/"
        }
      },
      "execution_count": 1,
      "outputs": [
        {
          "output_type": "stream",
          "name": "stdout",
          "text": [
            "Requirement already satisfied: transformers in /usr/local/lib/python3.11/dist-packages (4.55.0)\n",
            "Requirement already satisfied: filelock in /usr/local/lib/python3.11/dist-packages (from transformers) (3.18.0)\n",
            "Requirement already satisfied: huggingface-hub<1.0,>=0.34.0 in /usr/local/lib/python3.11/dist-packages (from transformers) (0.34.3)\n",
            "Requirement already satisfied: numpy>=1.17 in /usr/local/lib/python3.11/dist-packages (from transformers) (2.0.2)\n",
            "Requirement already satisfied: packaging>=20.0 in /usr/local/lib/python3.11/dist-packages (from transformers) (25.0)\n",
            "Requirement already satisfied: pyyaml>=5.1 in /usr/local/lib/python3.11/dist-packages (from transformers) (6.0.2)\n",
            "Requirement already satisfied: regex!=2019.12.17 in /usr/local/lib/python3.11/dist-packages (from transformers) (2024.11.6)\n",
            "Requirement already satisfied: requests in /usr/local/lib/python3.11/dist-packages (from transformers) (2.32.3)\n",
            "Requirement already satisfied: tokenizers<0.22,>=0.21 in /usr/local/lib/python3.11/dist-packages (from transformers) (0.21.4)\n",
            "Requirement already satisfied: safetensors>=0.4.3 in /usr/local/lib/python3.11/dist-packages (from transformers) (0.6.1)\n",
            "Requirement already satisfied: tqdm>=4.27 in /usr/local/lib/python3.11/dist-packages (from transformers) (4.67.1)\n",
            "Requirement already satisfied: fsspec>=2023.5.0 in /usr/local/lib/python3.11/dist-packages (from huggingface-hub<1.0,>=0.34.0->transformers) (2025.3.0)\n",
            "Requirement already satisfied: typing-extensions>=3.7.4.3 in /usr/local/lib/python3.11/dist-packages (from huggingface-hub<1.0,>=0.34.0->transformers) (4.14.1)\n",
            "Requirement already satisfied: hf-xet<2.0.0,>=1.1.3 in /usr/local/lib/python3.11/dist-packages (from huggingface-hub<1.0,>=0.34.0->transformers) (1.1.7)\n",
            "Requirement already satisfied: charset-normalizer<4,>=2 in /usr/local/lib/python3.11/dist-packages (from requests->transformers) (3.4.2)\n",
            "Requirement already satisfied: idna<4,>=2.5 in /usr/local/lib/python3.11/dist-packages (from requests->transformers) (3.10)\n",
            "Requirement already satisfied: urllib3<3,>=1.21.1 in /usr/local/lib/python3.11/dist-packages (from requests->transformers) (2.5.0)\n",
            "Requirement already satisfied: certifi>=2017.4.17 in /usr/local/lib/python3.11/dist-packages (from requests->transformers) (2025.8.3)\n"
          ]
        }
      ]
    },
    {
      "cell_type": "markdown",
      "source": [
        "## Local Inference on GPU\n",
        "Model page: https://huggingface.co/google/t5-v1_1-small\n",
        "\n",
        "\u26a0\ufe0f If the generated code snippets do not work, please open an issue on either the [model repo](https://huggingface.co/google/t5-v1_1-small)\n",
        "\t\t\tand/or on [huggingface.js](https://github.com/huggingface/huggingface.js/blob/main/packages/tasks/src/model-libraries-snippets.ts) \ud83d\ude4f"
      ],
      "metadata": {
        "id": "kmR1QXkItLWZ"
      }
    },
    {
      "cell_type": "code",
      "source": [
        "# Load model directly\n",
        "from transformers import AutoTokenizer, AutoModelForSeq2SeqLM\n",
        "\n",
        "tokenizer = AutoTokenizer.from_pretrained(\"google/t5-v1_1-small\")\n",
        "model = AutoModelForSeq2SeqLM.from_pretrained(\"google/t5-v1_1-small\")\n",
        "\n",
        "model.config.num_beams = 4\n",
        "model.config.num_return_sequences = 1\n",
        "model.config.length_penalty = 1.0\n",
        "model.config.no_repeat_ngram_size = 3\n"
      ],
      "metadata": {
        "id": "VZTqjTSftLWa"
      },
      "execution_count": 15,
      "outputs": []
    },
    {
      "cell_type": "code",
      "source": [
        "from datasets import load_dataset\n",
        "\n",
        "ds = load_dataset(\"abisee/cnn_dailymail\", \"3.0.0\")"
      ],
      "metadata": {
        "id": "Igx5SceUtabx",
        "colab": {
          "base_uri": "https://localhost:8080/",
          "height": 337,
          "referenced_widgets": [
            "b35ab1b5135d46a59f795c322e08f38a",
            "3dc7a7c1d35a42f5bde2179b09448d38",
            "d5f55b697ff74d1e9c001173f22cb88b",
            "98baf940cdad494688833580a87f31f4",
            "627df114ca2b4ae88a3ef4862c50fe33",
            "f546b84b45f64f07bdb98671780cb09f",
            "4ae62cc56a94408b879e06276ffba51d",
            "bc180124cd9441e4ac48b1d320bdcda3",
            "72aca6556af64c7d8f4de531b21f6023",
            "def6f49e981b47b0b11975e870a47424",
            "8d00d1ca528d41eb8a5f4867d03d69f7",
            "4f3f1056717d428083ebe316e46465ea",
            "566a631643b84e059c0200775c99e0d5",
            "47e209db6eeb442fa55c249976b67c17",
            "8c4bded7602b47a492d64486900763c1",
            "bec497094ee14c58b0172a67aa70a113",
            "253abf5ccd2a4b80be92e25eb886a142",
            "faad6037d9734a628f1b3797b9eec6b2",
            "e7a3f89162ba4f0897684f0ce6b0ead6",
            "0a2c991131cf4f6a9258af131b2a191c",
            "34d5117cdf7943408c81ccd50c996e04",
            "9e01e104bf9242eb96c8e416fd426628",
            "b1beeb13dadc41edabdda070fd3cf23a",
            "e8d2b8f611354a929e22e6d5c29a0650",
            "092d0a311c6c4917b20eb564c5ec026c",
            "dfac7b4850e9432c9dbda8f1b461b81d",
            "c0d8e442d6ee41928c17c7b2be58f881",
            "44deeb7ea45d4013803f821586123e79",
            "9c43713e99e945358fff0324318fcb3a",
            "0f84499c16ec486880538b1bf874eef6",
            "69ce948d0500440988ca2cac1e165716",
            "8d827940962745d6bed11269935de4dd",
            "45d3b03b7555437dab6b018594f3e34b",
            "7fd0572716424fc9ab6a127a45826e56",
            "7e4fe8abc0af49829f22fb8c2508933c",
            "6f99a21d148d42a0b675b27b1f299e50",
            "c00617f5352841c387847a6e0cfda449",
            "309902f5c0ad401493c3a7e62d7e3f0d",
            "a5bff15db2564ea8a716a2eabd3179de",
            "5612109b0bc04804bce0faad32dc52e6",
            "630cc37caf21499b94b8bf713f72f962",
            "fab66fba4f8e4d6dbd96231221a1c759",
            "05b5e8b74a03482e9c5790c7731024b7",
            "605104e081b14d16a82699fd5dc898c4",
            "1f5054cd24204c3aa70b918208f63d3c",
            "d7ecd18e0a2b475b9c9bcf0458efc7aa",
            "21b51de0c632425580387392320968cb",
            "bdf18b0309344e2f945d9af0dfe89d7c",
            "f9a2be4d2168407ea10acbef4725f581",
            "a5c92f9924c64fbc8a87fed797a8a994",
            "2aaf4d11230c46eb8193da07c8f30341",
            "863c6c39026140598e3f3099ffee84ae",
            "9dc8fd954b3d4412adb30eba96b98e63",
            "d2950d4c88864b89aa533928a228486e",
            "0ccb94c487cb454c9e5ebccc11f9a43f",
            "5f5fdeded7b541ee93f8233c54701c1f",
            "7400ce1ce7514ceca31acd89ba475769",
            "eeb21d2791dd49459e9141fa424342b8",
            "20519ba3a6e149dfadc3287eacd91734",
            "3ac51331ee0f4272ae30644611d3f3c5",
            "eb3c743c6c80484d858f792874f58f4e",
            "f3d938d983894f3c8d0746e2836567f8",
            "90fb2b9eb29146f3b864f3c39f671cb4",
            "aba4e9cbf4444051bb47676605e553d9",
            "ac278f0ffe3e445883d2cd2f61d6dbe5",
            "9971212deebc49ee9f5f1d189552526a",
            "f527d47374214b87ad5ecadeab3b80eb",
            "fbc1cc3724154a45a3d361448a947bc5",
            "d73d5fe4b6d94e7883b3f202a6a2c1a3",
            "3c986d15592840369c1aef8f22b159e7",
            "2e799bd9781b4099b9b4d964bf955201",
            "8b5ab71144b648e9bd1c1d298f2c0cae",
            "e080de7d2758400da6cdc16f366e535a",
            "744d69b9c15d4b6a9220059c983ccdc3",
            "ba44da1232e04d3aa3f50d95016d2e5c",
            "ebb1a6fa69df45b4a31a1d2a7fa375fa",
            "dbcb444e146a4b6f855f3235b5fdd48d",
            "13e5c3c338c74f9cbae12f5916e3c7c9",
            "edab9fae18e44df5a6ba5c2a30e3c3a2",
            "64995c2f5d3c430c897ae85dbd0934fe",
            "b25da413564e4e40b701a02367e181fe",
            "fb0dd0da37bb4e5392eca2b64eb80ae6",
            "8e7e18a1cad544e896d074093aa4a651",
            "9ee6ef93f5a6424b87f8f7a32757a4f0",
            "efdcd91ea6ec48f9b1227b2de7894f93",
            "23899f48ad3b48349aec4b32fdc598f8",
            "d84287b3f1f54238b59e8dca7ae8cf01",
            "e0fd0fc367a14de291d5180fb6ccc835",
            "390ce6c69951410b94c57b8f95c1e6e9",
            "c0294f167f3d4d5f9412ab04c4ee23d6",
            "27d7c67a581543ad89d09d50d6387d51",
            "b71efa866c314654bd416fdb53e53dc3",
            "76193f840b8d4bcfb05564978e4ba643",
            "d4ca71496fad415fa0e287d63a666925",
            "1ef00c012b0947c492e70d25c5cef8dc",
            "fda3e77bc77c4cad9f1f461d196eae13",
            "d8a1e893112446889475b845f7d52b91",
            "a584b07d24e943f581e1dd925e90c027",
            "e8c984676caf4fac9bc737c4f58de591",
            "5c6b1a0884d842c1a7fee51a92c29f3b",
            "6684523403da49eab6978d0cbe10fd72",
            "e15c96f625004ad3abcdb6a4f32eaffe",
            "7d67ae22c0574db3ad82d1bb7aee94e8",
            "0e6f853d2b054f6487cc511e1d84184e",
            "2e84b799173d448395b4337ab9f9ed19",
            "67459f9ebde042c3a176b81e6a8cd6d3",
            "cbb01d6ab9db4e6185ff3fce8efd96cc",
            "b405b40f04a8475094c3736f63eb33c2",
            "b6cf79529a25475db0690762ae6572d7",
            "0dc81ae1af8244439e03e8ecc3f2ba71"
          ]
        },
        "outputId": "bf81a81e-7fdb-4fbf-f4a3-591ebf0f2b79"
      },
      "execution_count": 3,
      "outputs": [
        {
          "output_type": "display_data",
          "data": {
            "text/plain": [
              "model.safetensors:   0%|          | 0.00/308M [00:00<?, ?B/s]"
            ],
            "application/vnd.jupyter.widget-view+json": {
              "version_major": 2,
              "version_minor": 0,
              "model_id": "b35ab1b5135d46a59f795c322e08f38a"
            }
          },
          "metadata": {}
        },
        {
          "output_type": "display_data",
          "data": {
            "text/plain": [
              "README.md: 0.00B [00:00, ?B/s]"
            ],
            "application/vnd.jupyter.widget-view+json": {
              "version_major": 2,
              "version_minor": 0,
              "model_id": "4f3f1056717d428083ebe316e46465ea"
            }
          },
          "metadata": {}
        },
        {
          "output_type": "display_data",
          "data": {
            "text/plain": [
              "train-00000-of-00003.parquet:   0%|          | 0.00/257M [00:00<?, ?B/s]"
            ],
            "application/vnd.jupyter.widget-view+json": {
              "version_major": 2,
              "version_minor": 0,
              "model_id": "b1beeb13dadc41edabdda070fd3cf23a"
            }
          },
          "metadata": {}
        },
        {
          "output_type": "display_data",
          "data": {
            "text/plain": [
              "train-00001-of-00003.parquet:   0%|          | 0.00/257M [00:00<?, ?B/s]"
            ],
            "application/vnd.jupyter.widget-view+json": {
              "version_major": 2,
              "version_minor": 0,
              "model_id": "7fd0572716424fc9ab6a127a45826e56"
            }
          },
          "metadata": {}
        },
        {
          "output_type": "display_data",
          "data": {
            "text/plain": [
              "train-00002-of-00003.parquet:   0%|          | 0.00/259M [00:00<?, ?B/s]"
            ],
            "application/vnd.jupyter.widget-view+json": {
              "version_major": 2,
              "version_minor": 0,
              "model_id": "1f5054cd24204c3aa70b918208f63d3c"
            }
          },
          "metadata": {}
        },
        {
          "output_type": "display_data",
          "data": {
            "text/plain": [
              "validation-00000-of-00001.parquet:   0%|          | 0.00/34.7M [00:00<?, ?B/s]"
            ],
            "application/vnd.jupyter.widget-view+json": {
              "version_major": 2,
              "version_minor": 0,
              "model_id": "5f5fdeded7b541ee93f8233c54701c1f"
            }
          },
          "metadata": {}
        },
        {
          "output_type": "display_data",
          "data": {
            "text/plain": [
              "test-00000-of-00001.parquet:   0%|          | 0.00/30.0M [00:00<?, ?B/s]"
            ],
            "application/vnd.jupyter.widget-view+json": {
              "version_major": 2,
              "version_minor": 0,
              "model_id": "f527d47374214b87ad5ecadeab3b80eb"
            }
          },
          "metadata": {}
        },
        {
          "output_type": "display_data",
          "data": {
            "text/plain": [
              "Generating train split:   0%|          | 0/287113 [00:00<?, ? examples/s]"
            ],
            "application/vnd.jupyter.widget-view+json": {
              "version_major": 2,
              "version_minor": 0,
              "model_id": "13e5c3c338c74f9cbae12f5916e3c7c9"
            }
          },
          "metadata": {}
        },
        {
          "output_type": "display_data",
          "data": {
            "text/plain": [
              "Generating validation split:   0%|          | 0/13368 [00:00<?, ? examples/s]"
            ],
            "application/vnd.jupyter.widget-view+json": {
              "version_major": 2,
              "version_minor": 0,
              "model_id": "390ce6c69951410b94c57b8f95c1e6e9"
            }
          },
          "metadata": {}
        },
        {
          "output_type": "display_data",
          "data": {
            "text/plain": [
              "Generating test split:   0%|          | 0/11490 [00:00<?, ? examples/s]"
            ],
            "application/vnd.jupyter.widget-view+json": {
              "version_major": 2,
              "version_minor": 0,
              "model_id": "5c6b1a0884d842c1a7fee51a92c29f3b"
            }
          },
          "metadata": {}
        }
      ]
    },
    {
      "cell_type": "code",
      "source": [
        "def preprocess_function(example):\n",
        "\n",
        "    input_text = \"summarize: \" + example[\"article\"]\n",
        "    target_text = example[\"highlights\"]\n",
        "\n",
        "\n",
        "    model_inputs = tokenizer(\n",
        "        input_text,\n",
        "        max_length=384,\n",
        "        truncation=True,\n",
        "        padding=\"max_length\"\n",
        "    )\n",
        "\n",
        "\n",
        "    with tokenizer.as_target_tokenizer():\n",
        "        labels = tokenizer(\n",
        "            target_text,\n",
        "            max_length=96,\n",
        "            truncation=True,\n",
        "            padding=\"max_length\"\n",
        "        )\n",
        "\n",
        "    model_inputs[\"labels\"] = labels[\"input_ids\"]\n",
        "    return model_inputs\n",
        "\n",
        "\n",
        "tokenized_dataset = ds[\"train\"].select(range(5000)).map(preprocess_function, batched=False)\n"
      ],
      "metadata": {
        "id": "An08Von849ME",
        "colab": {
          "base_uri": "https://localhost:8080/",
          "height": 104,
          "referenced_widgets": [
            "fa717eaaa9ba49bfaa53101480e09dab",
            "4e786e8aa8b24d3db36f1e418bdbd764",
            "601e361543b9444489e838a719325ef8",
            "1948e1730e294f1f9f15c28927a90628",
            "d8efcf1d73af40598a58b2340ed8a55e",
            "9eb16c827bba457c900350cb8ed19147",
            "a938ec1d9535493889da773e9ff8fe03",
            "3febcb27acae40018c3f04cc47c401e0",
            "a97077d8b8014beea98c388b4f5dd990",
            "9b1840c7cacb4e6191a0e5b8f4e4bdbd",
            "1ba2364ba4d846f5a5eeec2635496da8"
          ]
        },
        "outputId": "bc37c418-c1d3-4504-a97d-b87181f6096b"
      },
      "execution_count": 4,
      "outputs": [
        {
          "output_type": "display_data",
          "data": {
            "text/plain": [
              "Map:   0%|          | 0/5000 [00:00<?, ? examples/s]"
            ],
            "application/vnd.jupyter.widget-view+json": {
              "version_major": 2,
              "version_minor": 0,
              "model_id": "fa717eaaa9ba49bfaa53101480e09dab"
            }
          },
          "metadata": {}
        },
        {
          "output_type": "stream",
          "name": "stderr",
          "text": [
            "/usr/local/lib/python3.11/dist-packages/transformers/tokenization_utils_base.py:4006: UserWarning: `as_target_tokenizer` is deprecated and will be removed in v5 of Transformers. You can tokenize your labels by using the argument `text_target` of the regular `__call__` method (either in the same call as your input texts if you use the same keyword arguments, or in a separate call.\n",
            "  warnings.warn(\n"
          ]
        }
      ]
    },
    {
      "cell_type": "code",
      "source": [
        "print(ds)"
      ],
      "metadata": {
        "id": "ibRH0TVR_PLJ",
        "outputId": "604d01f8-e970-44a7-ffd4-dbe71c02bd31",
        "colab": {
          "base_uri": "https://localhost:8080/"
        }
      },
      "execution_count": 5,
      "outputs": [
        {
          "output_type": "stream",
          "name": "stdout",
          "text": [
            "DatasetDict({\n",
            "    train: Dataset({\n",
            "        features: ['article', 'highlights', 'id'],\n",
            "        num_rows: 287113\n",
            "    })\n",
            "    validation: Dataset({\n",
            "        features: ['article', 'highlights', 'id'],\n",
            "        num_rows: 13368\n",
            "    })\n",
            "    test: Dataset({\n",
            "        features: ['article', 'highlights', 'id'],\n",
            "        num_rows: 11490\n",
            "    })\n",
            "})\n"
          ]
        }
      ]
    },
    {
      "cell_type": "code",
      "source": [
        "!pip install -q evaluate\n",
        "!pip install rouge_score"
      ],
      "metadata": {
        "id": "j6NWwkDR5u__",
        "outputId": "1842e218-75f9-4152-edbc-7f8857193691",
        "colab": {
          "base_uri": "https://localhost:8080/"
        }
      },
      "execution_count": 6,
      "outputs": [
        {
          "output_type": "stream",
          "name": "stdout",
          "text": [
            "\u001b[?25l   \u001b[90m\u2501\u2501\u2501\u2501\u2501\u2501\u2501\u2501\u2501\u2501\u2501\u2501\u2501\u2501\u2501\u2501\u2501\u2501\u2501\u2501\u2501\u2501\u2501\u2501\u2501\u2501\u2501\u2501\u2501\u2501\u2501\u2501\u2501\u2501\u2501\u2501\u2501\u2501\u2501\u2501\u001b[0m \u001b[32m0.0/84.1 kB\u001b[0m \u001b[31m?\u001b[0m eta \u001b[36m-:--:--\u001b[0m\r\u001b[2K   \u001b[90m\u2501\u2501\u2501\u2501\u2501\u2501\u2501\u2501\u2501\u2501\u2501\u2501\u2501\u2501\u2501\u2501\u2501\u2501\u2501\u2501\u2501\u2501\u2501\u2501\u2501\u2501\u2501\u2501\u2501\u2501\u2501\u2501\u2501\u2501\u2501\u2501\u2501\u2501\u2501\u2501\u001b[0m \u001b[32m84.1/84.1 kB\u001b[0m \u001b[31m5.1 MB/s\u001b[0m eta \u001b[36m0:00:00\u001b[0m\n",
            "\u001b[?25hCollecting rouge_score\n",
            "  Downloading rouge_score-0.1.2.tar.gz (17 kB)\n",
            "  Preparing metadata (setup.py) ... \u001b[?25l\u001b[?25hdone\n",
            "Requirement already satisfied: absl-py in /usr/local/lib/python3.11/dist-packages (from rouge_score) (1.4.0)\n",
            "Requirement already satisfied: nltk in /usr/local/lib/python3.11/dist-packages (from rouge_score) (3.9.1)\n",
            "Requirement already satisfied: numpy in /usr/local/lib/python3.11/dist-packages (from rouge_score) (2.0.2)\n",
            "Requirement already satisfied: six>=1.14.0 in /usr/local/lib/python3.11/dist-packages (from rouge_score) (1.17.0)\n",
            "Requirement already satisfied: click in /usr/local/lib/python3.11/dist-packages (from nltk->rouge_score) (8.2.1)\n",
            "Requirement already satisfied: joblib in /usr/local/lib/python3.11/dist-packages (from nltk->rouge_score) (1.5.1)\n",
            "Requirement already satisfied: regex>=2021.8.3 in /usr/local/lib/python3.11/dist-packages (from nltk->rouge_score) (2024.11.6)\n",
            "Requirement already satisfied: tqdm in /usr/local/lib/python3.11/dist-packages (from nltk->rouge_score) (4.67.1)\n",
            "Building wheels for collected packages: rouge_score\n",
            "  Building wheel for rouge_score (setup.py) ... \u001b[?25l\u001b[?25hdone\n",
            "  Created wheel for rouge_score: filename=rouge_score-0.1.2-py3-none-any.whl size=24934 sha256=018b57d4e23c0e1b2fd7468d28119274733b3e95e913ec251f35d8cf800026df\n",
            "  Stored in directory: /root/.cache/pip/wheels/1e/19/43/8a442dc83660ca25e163e1bd1f89919284ab0d0c1475475148\n",
            "Successfully built rouge_score\n",
            "Installing collected packages: rouge_score\n",
            "Successfully installed rouge_score-0.1.2\n"
          ]
        }
      ]
    },
    {
      "cell_type": "code",
      "source": [
        "import numpy as np\n",
        "import evaluate\n",
        "rouge = evaluate.load('rouge')\n",
        "\n",
        "def _safe_ids(arr, pad_id, vocab_size=None):\n",
        "    arr = np.array(arr)\n",
        "    if arr.ndim == 3:\n",
        "        arr = arr[:, 0, :]\n",
        "\n",
        "    if arr.dtype.kind != 'i':\n",
        "        arr = arr.astype('int64', copy=False)\n",
        "\n",
        "    arr[arr < 0] = pad_id\n",
        "    if vocab_size is not None and vocab_size > 0:\n",
        "        arr = np.where(arr >= vocab_size, pad_id, arr)\n",
        "    return arr\n",
        "\n",
        "def compute_metrics(eval_pred):\n",
        "    preds, labels = eval_pred\n",
        "    pad_id = tokenizer.pad_token_id if tokenizer.pad_token_id is not None else 0\n",
        "    vocab_size = getattr(tokenizer, 'vocab_size', None)\n",
        "\n",
        "    if isinstance(preds, tuple):\n",
        "        preds = preds[0]\n",
        "\n",
        "    preds  = _safe_ids(preds,  pad_id, vocab_size)\n",
        "    labels = np.array(labels)\n",
        "    labels = np.where(labels != -100, labels, pad_id)\n",
        "    labels = _safe_ids(labels, pad_id, vocab_size)\n",
        "\n",
        "    decoded_preds  = tokenizer.batch_decode(preds.tolist(),  skip_special_tokens=True)\n",
        "    decoded_labels = tokenizer.batch_decode(labels.tolist(), skip_special_tokens=True)\n",
        "\n",
        "    decoded_preds  = [p.strip() for p in decoded_preds]\n",
        "    decoded_labels = [l.strip() for l in decoded_labels]\n",
        "\n",
        "    result = rouge.compute(predictions=decoded_preds, references=decoded_labels, use_stemmer=True)\n",
        "    result = {k: round(v * 100, 4) for k, v in result.items()}\n",
        "    return result\n"
      ],
      "metadata": {
        "id": "EbERjK_r5v6t"
      },
      "execution_count": 16,
      "outputs": []
    },
    {
      "cell_type": "code",
      "source": [
        "from transformers import Seq2SeqTrainingArguments\n",
        "\n",
        "training_args = Seq2SeqTrainingArguments(\n",
        "    predict_with_generate=True,\n",
        "    output_dir=\"./t5-small-cnn-summarizer\",\n",
        "    num_train_epochs=2,\n",
        "    per_device_train_batch_size=4,\n",
        "    per_device_eval_batch_size=4,\n",
        "    logging_steps=100,\n",
        "    save_steps=500,\n",
        "    save_total_limit=2,\n",
        "    remove_unused_columns=True,\n",
        "    report_to=\"none\",\n",
        "    generation_max_length=128,\n",
        "    fp16=False\n",
        ")"
      ],
      "metadata": {
        "id": "GGIrSbzQ5IKt"
      },
      "execution_count": 17,
      "outputs": []
    },
    {
      "cell_type": "code",
      "source": [
        "val_dataset = ds[\"validation\"].select(range(50))\n",
        "tokenized_val_dataset = val_dataset.map(preprocess_function, batched=False)"
      ],
      "metadata": {
        "id": "WdGhaqNv92_o",
        "colab": {
          "base_uri": "https://localhost:8080/",
          "height": 104,
          "referenced_widgets": [
            "655fa1df86514bd98214bce68f9dc3ab",
            "38d9cda10d13469ca789e1cce55f5eee",
            "5b384923c44d4811be7ad29acee0593f",
            "fe891e24af7f41cab5389185d69afdb5",
            "58e763a8f191479d9af4b1099e3e9285",
            "c9df30aed9004d659c488c5c6329b37f",
            "2f75fc608d514a10b7c9c2debac7f951",
            "b80e5e2d9bfa45d59322fdb2038d8db3",
            "c64b90a72eef48be906b7958c70a75f3",
            "c154fe416cf34310bd861fdb9fbeac19",
            "1ee64227027d4b7f8e87d929fed93686"
          ]
        },
        "outputId": "0f91d1d2-1296-4864-e03f-25ee49ce3439"
      },
      "execution_count": 9,
      "outputs": [
        {
          "output_type": "display_data",
          "data": {
            "text/plain": [
              "Map:   0%|          | 0/50 [00:00<?, ? examples/s]"
            ],
            "application/vnd.jupyter.widget-view+json": {
              "version_major": 2,
              "version_minor": 0,
              "model_id": "655fa1df86514bd98214bce68f9dc3ab"
            }
          },
          "metadata": {}
        },
        {
          "output_type": "stream",
          "name": "stderr",
          "text": [
            "/usr/local/lib/python3.11/dist-packages/transformers/tokenization_utils_base.py:4006: UserWarning: `as_target_tokenizer` is deprecated and will be removed in v5 of Transformers. You can tokenize your labels by using the argument `text_target` of the regular `__call__` method (either in the same call as your input texts if you use the same keyword arguments, or in a separate call.\n",
            "  warnings.warn(\n"
          ]
        }
      ]
    },
    {
      "cell_type": "code",
      "source": [
        "from transformers import Seq2SeqTrainer\n",
        "trainer = Seq2SeqTrainer(\n",
        "    model=model,\n",
        "    args=training_args,\n",
        "    train_dataset=tokenized_dataset,\n",
        "    eval_dataset=tokenized_val_dataset,\n",
        "    tokenizer=tokenizer,\n",
        "    compute_metrics=compute_metrics\n",
        ")"
      ],
      "metadata": {
        "id": "m7p5crQa5PF1",
        "outputId": "e9d6babc-44d8-44e7-94df-52bd14e9b050",
        "colab": {
          "base_uri": "https://localhost:8080/"
        }
      },
      "execution_count": 10,
      "outputs": [
        {
          "output_type": "stream",
          "name": "stderr",
          "text": [
            "/tmp/ipython-input-1855562264.py:2: FutureWarning: `tokenizer` is deprecated and will be removed in version 5.0.0 for `Seq2SeqTrainer.__init__`. Use `processing_class` instead.\n",
            "  trainer = Seq2SeqTrainer(\n"
          ]
        }
      ]
    },
    {
      "cell_type": "code",
      "source": [
        "import torch\n",
        "torch.cuda.empty_cache()"
      ],
      "metadata": {
        "id": "7fTb1zOvAskU"
      },
      "execution_count": 11,
      "outputs": []
    },
    {
      "cell_type": "code",
      "source": [
        "trainer.train()"
      ],
      "metadata": {
        "id": "drqCZyWa6tNQ",
        "outputId": "5dbfe0a1-1b54-4635-f3f6-0ed3e945cdc5",
        "colab": {
          "base_uri": "https://localhost:8080/",
          "height": 949
        }
      },
      "execution_count": 12,
      "outputs": [
        {
          "output_type": "display_data",
          "data": {
            "text/plain": [
              "<IPython.core.display.HTML object>"
            ],
            "text/html": [
              "\n",
              "    <div>\n",
              "      \n",
              "      <progress value='2500' max='2500' style='width:300px; height:20px; vertical-align: middle;'></progress>\n",
              "      [2500/2500 09:50, Epoch 2/2]\n",
              "    </div>\n",
              "    <table border=\"1\" class=\"dataframe\">\n",
              "  <thead>\n",
              " <tr style=\"text-align: left;\">\n",
              "      <th>Step</th>\n",
              "      <th>Training Loss</th>\n",
              "    </tr>\n",
              "  </thead>\n",
              "  <tbody>\n",
              "    <tr>\n",
              "      <td>100</td>\n",
              "      <td>21.809200</td>\n",
              "    </tr>\n",
              "    <tr>\n",
              "      <td>200</td>\n",
              "      <td>7.605400</td>\n",
              "    </tr>\n",
              "    <tr>\n",
              "      <td>300</td>\n",
              "      <td>4.794600</td>\n",
              "    </tr>\n",
              "    <tr>\n",
              "      <td>400</td>\n",
              "      <td>4.011000</td>\n",
              "    </tr>\n",
              "    <tr>\n",
              "      <td>500</td>\n",
              "      <td>3.458600</td>\n",
              "    </tr>\n",
              "    <tr>\n",
              "      <td>600</td>\n",
              "      <td>3.266900</td>\n",
              "    </tr>\n",
              "    <tr>\n",
              "      <td>700</td>\n",
              "      <td>3.193900</td>\n",
              "    </tr>\n",
              "    <tr>\n",
              "      <td>800</td>\n",
              "      <td>3.013900</td>\n",
              "    </tr>\n",
              "    <tr>\n",
              "      <td>900</td>\n",
              "      <td>2.975600</td>\n",
              "    </tr>\n",
              "    <tr>\n",
              "      <td>1000</td>\n",
              "      <td>2.933100</td>\n",
              "    </tr>\n",
              "    <tr>\n",
              "      <td>1100</td>\n",
              "      <td>2.892800</td>\n",
              "    </tr>\n",
              "    <tr>\n",
              "      <td>1200</td>\n",
              "      <td>2.925500</td>\n",
              "    </tr>\n",
              "    <tr>\n",
              "      <td>1300</td>\n",
              "      <td>2.839800</td>\n",
              "    </tr>\n",
              "    <tr>\n",
              "      <td>1400</td>\n",
              "      <td>2.779400</td>\n",
              "    </tr>\n",
              "    <tr>\n",
              "      <td>1500</td>\n",
              "      <td>2.772400</td>\n",
              "    </tr>\n",
              "    <tr>\n",
              "      <td>1600</td>\n",
              "      <td>2.749400</td>\n",
              "    </tr>\n",
              "    <tr>\n",
              "      <td>1700</td>\n",
              "      <td>2.754900</td>\n",
              "    </tr>\n",
              "    <tr>\n",
              "      <td>1800</td>\n",
              "      <td>2.740800</td>\n",
              "    </tr>\n",
              "    <tr>\n",
              "      <td>1900</td>\n",
              "      <td>2.720400</td>\n",
              "    </tr>\n",
              "    <tr>\n",
              "      <td>2000</td>\n",
              "      <td>2.748000</td>\n",
              "    </tr>\n",
              "    <tr>\n",
              "      <td>2100</td>\n",
              "      <td>2.694000</td>\n",
              "    </tr>\n",
              "    <tr>\n",
              "      <td>2200</td>\n",
              "      <td>2.666800</td>\n",
              "    </tr>\n",
              "    <tr>\n",
              "      <td>2300</td>\n",
              "      <td>2.645200</td>\n",
              "    </tr>\n",
              "    <tr>\n",
              "      <td>2400</td>\n",
              "      <td>2.693900</td>\n",
              "    </tr>\n",
              "    <tr>\n",
              "      <td>2500</td>\n",
              "      <td>2.705900</td>\n",
              "    </tr>\n",
              "  </tbody>\n",
              "</table><p>"
            ]
          },
          "metadata": {}
        },
        {
          "output_type": "stream",
          "name": "stderr",
          "text": [
            "/usr/local/lib/python3.11/dist-packages/transformers/modeling_utils.py:3909: UserWarning: Moving the following attributes in the config to the generation config: {'num_beams': 4, 'no_repeat_ngram_size': 3}. You are seeing this warning because you've set generation parameters in the model config, as opposed to in the generation config.\n",
            "  warnings.warn(\n"
          ]
        },
        {
          "output_type": "execute_result",
          "data": {
            "text/plain": [
              "TrainOutput(global_step=2500, training_loss=3.9356489624023436, metrics={'train_runtime': 592.4832, 'train_samples_per_second': 16.878, 'train_steps_per_second': 4.22, 'total_flos': 1394178785280000.0, 'train_loss': 3.9356489624023436, 'epoch': 2.0})"
            ]
          },
          "metadata": {},
          "execution_count": 12
        }
      ]
    },
    {
      "cell_type": "code",
      "source": [
        "trainer.evaluate()"
      ],
      "metadata": {
        "id": "j3tW90zE9T8J",
        "outputId": "60f3d664-2a89-4245-8dba-6d91d5fb79b1",
        "colab": {
          "base_uri": "https://localhost:8080/",
          "height": 193
        }
      },
      "execution_count": 13,
      "outputs": [
        {
          "output_type": "display_data",
          "data": {
            "text/plain": [
              "<IPython.core.display.HTML object>"
            ],
            "text/html": [
              "\n",
              "    <div>\n",
              "      \n",
              "      <progress value='13' max='13' style='width:300px; height:20px; vertical-align: middle;'></progress>\n",
              "      [13/13 00:16]\n",
              "    </div>\n",
              "    "
            ]
          },
          "metadata": {}
        },
        {
          "output_type": "execute_result",
          "data": {
            "text/plain": [
              "{'eval_loss': 1.3493353128433228,\n",
              " 'eval_rouge1': 30.4422,\n",
              " 'eval_rouge2': 10.3032,\n",
              " 'eval_rougeL': 20.9202,\n",
              " 'eval_rougeLsum': 21.0257,\n",
              " 'eval_runtime': 19.0367,\n",
              " 'eval_samples_per_second': 2.626,\n",
              " 'eval_steps_per_second': 0.683,\n",
              " 'epoch': 2.0}"
            ]
          },
          "metadata": {},
          "execution_count": 13
        }
      ]
    },
    {
      "cell_type": "code",
      "source": [
        "import matplotlib.pyplot as plt\n",
        "\n",
        "metrics = {\n",
        "    'eval_loss': 1.3493,\n",
        "    'eval_rouge1': 30.4422,\n",
        "    'eval_rouge2': 10.3032,\n",
        "    'eval_rougeL': 20.9202,\n",
        "    'eval_rougeLsum': 21.0257\n",
        "}\n",
        "\n",
        "rouge_keys = ['eval_rouge1', 'eval_rouge2', 'eval_rougeL', 'eval_rougeLsum']\n",
        "rouge_values = [metrics[k] for k in rouge_keys]\n",
        "\n",
        "plt.figure(figsize=(6,4))\n",
        "bars = plt.bar(rouge_keys, rouge_values, color='skyblue')\n",
        "plt.ylabel('Score')\n",
        "plt.ylim(0, 100)\n",
        "plt.title('ROUGE Scores')\n",
        "\n",
        "for bar, val in zip(bars, rouge_values):\n",
        "    plt.text(bar.get_x() + bar.get_width()/2, bar.get_height() + 1, f'{val:.2f}', ha='center', va='bottom')\n",
        "\n",
        "plt.show()\n"
      ],
      "metadata": {
        "colab": {
          "base_uri": "https://localhost:8080/",
          "height": 391
        },
        "id": "b0Memm1CyTTZ",
        "outputId": "5e247894-0f36-407f-d8e2-85cef02c622d"
      },
      "execution_count": 14,
      "outputs": [
        {
          "output_type": "display_data",
          "data": {
            "text/plain": [
              "<Figure size 600x400 with 1 Axes>"
            ],
            "image/png": "[encoded data removed]"
          },
          "metadata": {}
        }
      ]
    }
  ]
}